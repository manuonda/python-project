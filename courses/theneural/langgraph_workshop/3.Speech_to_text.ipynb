{
 "cells": [
  {
   "cell_type": "markdown",
   "id": "cc028faa",
   "metadata": {},
   "source": [
    "### Speech to Text \n",
    "This feature allows users to convert spoken language into written text. It can be used in various applications such as transcription services, voice commands, and accessibility tools. The technology typically involves the use of machine learning algorithms and natural language processing to accurately interpret and transcribe audio input.\n",
    "\n"
   ]
  },
  {
   "cell_type": "code",
   "execution_count": 1,
   "id": "7e39e327",
   "metadata": {},
   "outputs": [
    {
     "name": "stderr",
     "output_type": "stream",
     "text": [
      "Downloading...\n",
      "From: https://drive.google.com/uc?id=1kSFiEUJpRx2ClyAgR5sX6LRksypd1xdH\n",
      "To: /home/manuonda/projects/python-project/courses/theneural/langgraph_workshop/audio.mp3\n",
      "100%|██████████| 68.7k/68.7k [00:00<00:00, 1.45MB/s]\n"
     ]
    },
    {
     "data": {
      "text/plain": [
       "'audio.mp3'"
      ]
     },
     "execution_count": 1,
     "metadata": {},
     "output_type": "execute_result"
    }
   ],
   "source": [
    "import gdown \n",
    "file_id = \"1kSFiEUJpRx2ClyAgR5sX6LRksypd1xdH\"\n",
    "url = f\"https://drive.google.com/uc?id={file_id}\"\n",
    "\n",
    "gdown.download(url, output=\"audio.mp3\", quiet=False)\n"
   ]
  },
  {
   "cell_type": "code",
   "execution_count": null,
   "id": "0cb2afba",
   "metadata": {},
   "outputs": [],
   "source": [
    "from IPython.display import Audio\n",
    "Audio(\"audio.mp3\")\n"
   ]
  },
  {
   "cell_type": "code",
   "execution_count": null,
   "id": "695f085e",
   "metadata": {},
   "outputs": [],
   "source": [
    "from openai import OpenAI\n",
    "client = OpenAI()\n",
    "audio_file = open(\"audio.mp3\", \"rb\")\n",
    "transcription = client.audio.transcriptions.create(\n",
    "    file=audio_file,\n",
    "    model=\"whisper-1\"\n",
    ")\n"
   ]
  },
  {
   "cell_type": "code",
   "execution_count": null,
   "id": "88ea3375",
   "metadata": {},
   "outputs": [],
   "source": [
    "print(transcription.text)"
   ]
  }
 ],
 "metadata": {
  "kernelspec": {
   "display_name": "langgraph-workshop",
   "language": "python",
   "name": "python3"
  },
  "language_info": {
   "codemirror_mode": {
    "name": "ipython",
    "version": 3
   },
   "file_extension": ".py",
   "mimetype": "text/x-python",
   "name": "python",
   "nbconvert_exporter": "python",
   "pygments_lexer": "ipython3",
   "version": "3.13.5"
  }
 },
 "nbformat": 4,
 "nbformat_minor": 5
}
