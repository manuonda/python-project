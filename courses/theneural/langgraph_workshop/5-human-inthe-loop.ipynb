{
 "cells": [
  {
   "cell_type": "markdown",
   "id": "ada54356",
   "metadata": {},
   "source": [
    "### Human in the loop \n",
    "Human-in-the-loop (HITL) is an approach in which human judgment and decision-making are integrated into automated systems or processes. This method is often used in machine learning, artificial intelligence, and data processing to enhance the accuracy, reliability, and ethical considerations of automated systems."
   ]
  },
  {
   "cell_type": "markdown",
   "id": "6a2e32b4",
   "metadata": {},
   "source": [
    "### Approve or Reject\n",
    "* ¿Cuándo? Antes de acciones críticas/costosas\n",
    "* Ejemplo: Confirmar antes de enviar 1000 emails\n",
    "* Flujo: Propuesta → Humano decide → Ejecutar/Cancelar\n",
    "\n",
    "Pause the graph before a critical step, such as an API call, to review and approve the action. If the action is rejected, you can prevent the graph from executing the step, and potentially take an alternative action."
   ]
  }
 ],
 "metadata": {
  "kernelspec": {
   "display_name": "langgraph-workshop",
   "language": "python",
   "name": "python3"
  },
  "language_info": {
   "name": "python",
   "version": "3.13.1"
  }
 },
 "nbformat": 4,
 "nbformat_minor": 5
}
