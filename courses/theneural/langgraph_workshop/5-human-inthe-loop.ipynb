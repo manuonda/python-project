{
 "cells": [
  {
   "cell_type": "markdown",
   "id": "ada54356",
   "metadata": {},
   "source": [
    "### Human in the loop \n",
    "Human-in-the-loop (HITL) is an approach in which human judgment and decision-making are integrated into automated systems or processes. This method is often used in machine learning, artificial intelligence, and data processing to enhance the accuracy, reliability, and ethical considerations of automated systems."
   ]
  },
  {
   "cell_type": "markdown",
   "id": "6a2e32b4",
   "metadata": {},
   "source": [
    "### Approve or Reject\n",
    "* ¿Cuándo? Antes de acciones críticas/costosas\n",
    "* Ejemplo: Confirmar antes de enviar 1000 emails\n",
    "* Flujo: Propuesta → Humano decide → Ejecutar/Cancelar\n",
    "\n",
    "Pause the graph before a critical step, such as an API call, to review and approve the action. If the action is rejected, you can prevent the graph from executing the step, and potentially take an alternative action."
   ]
  },
  {
   "cell_type": "code",
   "execution_count": null,
   "id": "288f9412",
   "metadata": {},
   "outputs": [],
   "source": [
    "import os \n",
    "from dotenv import load_dotenv\n",
    "from langchain.chat_models import init_chat_model\n",
    "from langchain_core.messages import SystemMessage, HumanMessage\n",
    "from langchain_core.tools import tool\n",
    "from langgraph.graph import StateGraph, START, END\n",
    "from langgraph.prebuilt import ToolNode \n",
    "from typing import Literal, TypedDict, List, Dict, Any \n",
    "from IPython.display import display \n",
    "import json \n",
    "\n",
    "\n",
    "@tool \n",
    "def send_email(to: str, subject: str, body: str) -> str:\n",
    "    \"\"\" \n",
    "     Envia un email(simulado)\n",
    "     Args:\n",
    "       to: Destinatario\n",
    "       subject: Asunto \n",
    "       body: Contenido del email \n",
    "\n",
    "    \"\"\"\n",
    "    return f\"Email enviado a {to} con asunto : '{subject}\"\n",
    "\n",
    "\n",
    "@tool \n",
    "def delete_files(file_paths: List[str]) ->str:\n",
    "    \"\"\"\"\n",
    "    Elimina archivos(simulado - operacion critica)\n",
    "    Args:\n",
    "      file_paths : Lista de rutas de archivos a eliminar \n",
    "    \"\"\"\n",
    "    return f\"Eliminados {len(file_paths)}\"\n",
    "\n",
    "@tool\n",
    "def make_purchase(item: str, amount: float) -> str:\n",
    "    \"\"\"\n",
    "    Realiza una compra(simulado- operacion financiera)\n",
    "    Args:\n",
    "       item:Articulo a comprar \n",
    "       amount: monto de la compra \n",
    "    \"\"\"\n"
   ]
  }
 ],
 "metadata": {
  "kernelspec": {
   "display_name": "langgraph-workshop",
   "language": "python",
   "name": "python3"
  },
  "language_info": {
   "name": "python",
   "version": "3.13.1"
  }
 },
 "nbformat": 4,
 "nbformat_minor": 5
}
