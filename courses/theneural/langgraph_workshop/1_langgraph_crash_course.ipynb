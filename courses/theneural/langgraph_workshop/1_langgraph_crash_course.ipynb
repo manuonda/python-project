{
 "cells": [
  {
   "cell_type": "markdown",
   "metadata": {
    "id": "tTZBIQSu93SG"
   },
   "source": [
    "# LangGraph Crash Course"
   ]
  },
  {
   "cell_type": "markdown",
   "metadata": {
    "id": "Qo9wCEoayZDc"
   },
   "source": [
    "<img src=\"https://drive.google.com/uc?id=1bwlbmjbPZLXBizw5Ekl7icGgjiDM7RQP\" alt=\"Alt text\" width=\"700\"/>\n"
   ]
  },
  {
   "cell_type": "markdown",
   "metadata": {
    "id": "nRgGv-rSlnxz"
   },
   "source": [
    "LangGraph is a framework designed for building **complex, stateful LLM agent and multi-agent applications**.\n",
    "\n",
    "Unlike traditional linear workflows, LangGraph uses a **graph-based architecture** that gives developers fine-grained control over agent behavior—enabling features like conditional logic, tool prioritization, looping, and shared memory.\n",
    "\n",
    "It's ideal for creating **robust, production-ready AI systems** that require precision and adaptability."
   ]
  },
  {
   "cell_type": "markdown",
   "metadata": {
    "id": "5ALQRGppAUlL"
   },
   "source": [
    "The first thing we need to do, is to install a bunch of **Python libraries** we'll need throughout this crash course."
   ]
  },
  {
   "cell_type": "code",
   "execution_count": null,
   "metadata": {
    "id": "uTsQRGPsAivn"
   },
   "outputs": [],
   "source": [
    "%%capture --no-stderr\n",
    "%pip install --quiet -U langchain_openai langchain_core langchain_community langgraph"
   ]
  },
  {
   "cell_type": "markdown",
   "metadata": {
    "id": "END_1VL81Xp9"
   },
   "source": [
    "# Understanding LangGraph Structure"
   ]
  },
  {
   "cell_type": "markdown",
   "metadata": {
    "id": "PCRbcHmP1s1U"
   },
   "source": [
    "Let's start by understanding the fundamental components of LangGraph and how to create a simple graph.\n"
   ]
  },
  {
   "cell_type": "markdown",
   "metadata": {
    "id": "ralsZgLk2Dev"
   },
   "source": [
    "<img src=\"https://drive.google.com/uc?id=1HlCxqbbJ_xyIFCSimyPKAS_MVcGnne7J\" alt=\"Alt text\" width=\"700\"/>\n"
   ]
  },
  {
   "cell_type": "markdown",
   "metadata": {
    "id": "OfcmdSXg2Rnc"
   },
   "source": [
    "Remember that LangGraph is based on three fundamental components: **state**, **nodes**, and **edges**. Let's start with the state."
   ]
  },
  {
   "cell_type": "markdown",
   "metadata": {
    "id": "1Dvy-4sS2RUd"
   },
   "source": [
    "## 1. State"
   ]
  },
  {
   "cell_type": "markdown",
   "metadata": {
    "id": "1DwQb0uC2zuP"
   },
   "source": [
    "Start by defining the State of the graph.\n",
    "\n",
    "This state schema acts as the input structure for all Nodes and Edges within the graph."
   ]
  },
  {
   "cell_type": "code",
   "execution_count": null,
   "metadata": {
    "id": "2uNqdklm2yV5"
   },
   "outputs": [],
   "source": [
    "from typing_extensions import TypedDict\n",
    "\n",
    "class State(TypedDict):\n",
    "    graph_state: str"
   ]
  },
  {
   "cell_type": "markdown",
   "metadata": {
    "id": "-CrRpjxy3AXD"
   },
   "source": [
    "## 2. Nodes"
   ]
  },
  {
   "cell_type": "markdown",
   "metadata": {
    "id": "glHwFXO-3Hra"
   },
   "source": [
    "**Nodes are simply Python functions.**\n",
    "\n",
    "Each node takes the state as its first positional argument, based on the previously defined `TypedDict` schema.\n",
    "\n",
    "Since the state includes a `graph_state` key, each node can access it using `state['graph_state']`.\n",
    "\n",
    "> Each node returns an updated value for graph_state, and by default, this new value will overwrite the existing one in the state."
   ]
  },
  {
   "cell_type": "code",
   "execution_count": null,
   "metadata": {
    "id": "D895TRzh2yUG"
   },
   "outputs": [],
   "source": [
    "def node_1(state):\n",
    "    print(\"---Node 1---\")\n",
    "    return {\"graph_state\": state['graph_state'] +\" Welcome\"}\n",
    "\n",
    "def node_2(state):\n",
    "    print(\"---Node 2---\")\n",
    "    return {\"graph_state\": state['graph_state'] +\" to the DataHack Summit!\"}\n",
    "\n",
    "def node_3(state):\n",
    "    print(\"---Node 3---\")\n",
    "    return {\"graph_state\": state['graph_state'] +\" to Bengaluru!\"}\n"
   ]
  },
  {
   "cell_type": "markdown",
   "metadata": {
    "id": "D-5NMLG23nuk"
   },
   "source": [
    "## 3. Edges"
   ]
  },
  {
   "cell_type": "markdown",
   "metadata": {
    "id": "js2GBldx3tKc"
   },
   "source": [
    "Edges define the connections between nodes in the graph.\n",
    "\n",
    "* **Normal edges** are used when you always want to transition from one node to another—for example, from `node_1` to `node_2`.\n",
    "\n",
    "* **Conditional edges** allow for **dynamic routing** based on logic. These are implemented as functions that evaluate the current state and return the name of the next node to execute."
   ]
  },
  {
   "cell_type": "code",
   "execution_count": null,
   "metadata": {
    "id": "AY1I6P4G3nMI"
   },
   "outputs": [],
   "source": [
    "import random\n",
    "from typing import Literal\n",
    "\n",
    "def decide_node(state) -> Literal[\"node_2\", \"node_3\"]:\n",
    "\n",
    "    user_input = state['graph_state']\n",
    "\n",
    "    if random.random() < 0.5:\n",
    "        return \"node_2\"\n",
    "\n",
    "    return \"node_3\""
   ]
  },
  {
   "cell_type": "markdown",
   "metadata": {
    "id": "Yf7XAzTW4J0w"
   },
   "source": [
    "## 4. Graph Construction"
   ]
  },
  {
   "cell_type": "markdown",
   "metadata": {
    "id": "QlouhAVD4TVO"
   },
   "source": [
    "Now it's time to build the graph using the components we've defined.\n",
    "\n",
    "We'll use the `StateGraph` class to create the graph structure.\n",
    "\n",
    "First, initialize a `StateGraph` with the `State` schema we defined earlier.\n",
    "\n",
    "> Then, add your nodes and connect them with edges.\n",
    "\n",
    "Use the special `START` node to define the entry point of the graph—this is where user input enters the system.\n",
    "\n",
    "The `END` node marks the terminal point where the graph finishes execution.\n",
    "\n",
    "Once all nodes and edges are added, compile the graph to validate its structure.\n",
    "\n",
    "You can also visualize the resulting graph as a **Mermaid diagram** for a clearer view of the workflow."
   ]
  },
  {
   "cell_type": "code",
   "execution_count": null,
   "metadata": {
    "id": "YhTyQ5HS2yPr"
   },
   "outputs": [],
   "source": [
    "from IPython.display import Image, display\n",
    "from langgraph.graph import StateGraph, START, END\n",
    "\n",
    "# Build graph\n",
    "builder = StateGraph(State)\n",
    "\n",
    "# Defining the nodes\n",
    "builder.add_node(\"node_1\", node_1)\n",
    "builder.add_node(\"node_2\", node_2)\n",
    "builder.add_node(\"node_3\", node_3)\n",
    "\n",
    "# Logic - Defining the edges\n",
    "builder.add_edge(START, \"node_1\")\n",
    "builder.add_conditional_edges(\"node_1\", decide_node)\n",
    "builder.add_edge(\"node_2\", END)\n",
    "builder.add_edge(\"node_3\", END)\n",
    "\n",
    "# Compile the Graph\n",
    "graph = builder.compile()\n",
    "\n",
    "# View\n",
    "display(Image(graph.get_graph().draw_mermaid_png()))"
   ]
  },
  {
   "cell_type": "markdown",
   "metadata": {
    "id": "lMpm5Hqr4tsc"
   },
   "source": [
    "## 5. Graph Execution"
   ]
  },
  {
   "cell_type": "markdown",
   "metadata": {
    "id": "HJg76tS040BU"
   },
   "source": [
    "The compiled graph conforms to the `Runnable` protocol, which defines a standard interface for executing LangChain components.\n",
    "\n",
    "One of the key methods in this interface is `.invoke()`.\n",
    "\n",
    "You start by passing an input dictionary, such as `{\"graph_state\": \"Hi there, it's Miguel!\"}`, to set the initial value of the graph state.\n",
    "\n",
    "When `.invoke()` is called, execution begins at the `START` node.\n",
    "\n",
    "The graph then proceeds through the defined nodes (`node_1`, `node_2`, `node_3`), following the structure you built.\n",
    "\n",
    "A conditional edge determines whether the flow goes from `node_1` to `node_2` or `node_3`, based on a 50/50 logic split.\n",
    "\n",
    "Each node receives the current state, processes it, and returns an updated value, which replaces the previous graph_state.\n",
    "\n",
    "Execution continues along the graph until the END node is reached, signaling completion."
   ]
  },
  {
   "cell_type": "code",
   "execution_count": null,
   "metadata": {
    "id": "bol3DOcN2yNM"
   },
   "outputs": [],
   "source": [
    "graph.invoke({\"graph_state\" : \"Hi there, it's Miguel!\"})"
   ]
  },
  {
   "cell_type": "markdown",
   "metadata": {
    "id": "cm9il5oJ5lFj"
   },
   "source": [
    "Congratulations, now we have an idea of how LangGraph works. Time to see what kind of LLM applications we can build with this framework!"
   ]
  },
  {
   "cell_type": "markdown",
   "metadata": {
    "id": "cz5QZJXN59KK"
   },
   "source": [
    "# Building LLM Applications with LangGraph"
   ]
  },
  {
   "cell_type": "markdown",
   "metadata": {
    "id": "n0i3DRzCytse"
   },
   "source": [
    "Our **Telegram Agent** will follow a pattern known as the **Router**, in which the LLM decides which workflow to follow.\n",
    "\n",
    "**This Router is an evolution of static LLM Chains.**\n",
    "\n",
    "Let's take a look at how to implement each one in the following sections.\n",
    "\n",
    "> Don't forget about the Levels of Autonomy in LLM Applications! 👇\n"
   ]
  },
  {
   "cell_type": "markdown",
   "metadata": {
    "id": "8YRinf5pz5p8"
   },
   "source": [
    "<img src=\"https://drive.google.com/uc?id=1eQtFcYG3Elfdl0_jCGEgM7bUTiv-o213\" alt=\"Alt text\" width=\"700\"/>\n"
   ]
  },
  {
   "cell_type": "markdown",
   "metadata": {
    "id": "H7aabVNF5FMF"
   },
   "source": [
    "## Chains"
   ]
  },
  {
   "cell_type": "markdown",
   "metadata": {
    "id": "gi_QvuDz9hd5"
   },
   "source": [
    "<img src=\"https://drive.google.com/uc?id=1SKEFGB3PXL6UVCAYBXA7ZhW_Dobu3ht3\" alt=\"Alt text\" width=\"700\"/>"
   ]
  },
  {
   "cell_type": "markdown",
   "metadata": {
    "id": "Ppcvaz2i4gPO"
   },
   "source": [
    "Let's build a simple chain that combines 4 concepts:\n",
    "\n",
    "* Using chat messages as our graph state\n",
    "* Using chat models in graph nodes\n",
    "* Binding tools to our chat model\n",
    "* Executing tool calls in graph nodes"
   ]
  },
  {
   "cell_type": "markdown",
   "metadata": {
    "id": "tzq9F9v29tDu"
   },
   "source": [
    "### 1. Messages"
   ]
  },
  {
   "cell_type": "markdown",
   "metadata": {
    "id": "lJ1J6vdl90rr"
   },
   "source": [
    "Chat models can handle different types of messages representing various roles in a conversation. LangChain supports key message types like:\n",
    "\n",
    "* `HumanMessage` - from the user\n",
    "* `AIMessage` - from the chat model\n",
    "* `SystemMessage` - to guide the model's behavior\n",
    "* `ToolMessage` - responses from tool calls\n",
    "\n",
    "Let's build a list of messages. Each message can include:\n",
    "\n",
    "* **content** - the message text\n",
    "* **name** - optional author name\n",
    "* **response_metadata** - optional metadata (e.g. from model providers for AIMessage, like OpenAI)\n"
   ]
  },
  {
   "cell_type": "code",
   "execution_count": null,
   "metadata": {
    "id": "urQ2ZyXU9uYI"
   },
   "outputs": [],
   "source": [
    "from pprint import pprint\n",
    "from langchain_core.messages import AIMessage, HumanMessage\n",
    "\n",
    "messages = [AIMessage(content=\"Hello, I'm your virtual travel assistant for Bengaluru. How can I help you plan your visit?\", name=\"Agent\")]\n",
    "messages.append(HumanMessage(content=\"Hi, I'm visiting Bengaluru for the first time. Can you suggest key places to see?\", name=\"Miguel\"))\n",
    "messages.append(AIMessage(content=\"Certainly. Some must-visit places include Lalbagh Botanical Garden, Bangalore Palace, and Cubbon Park. Are you interested in cultural sites, nature, or food experiences?\", name=\"Agent\"))\n",
    "messages.append(HumanMessage(content=\"I'm interested in a mix of history and local cuisine.\", name=\"Miguel\"))\n",
    "messages.append(AIMessage(content=\"Great choice. You can explore Tipu Sultan's Summer Palace for history, then head to VV Puram Food Street for authentic local dishes.\", name=\"Agent\"))\n",
    "\n",
    "for m in messages:\n",
    "    m.pretty_print()\n"
   ]
  },
  {
   "cell_type": "markdown",
   "metadata": {
    "id": "u7nNj7VL-_c2"
   },
   "source": [
    "### Chat Models"
   ]
  },
  {
   "cell_type": "markdown",
   "metadata": {
    "id": "GeQQAsIIHiFz"
   },
   "source": [
    "Chat models accept a sequence of messages as input and support multiple message types, as previously mentioned.\n",
    "\n",
    "Among the available options, we'll be working with **OpenAI**.\n",
    "\n",
    "Before proceeding, we'll check if your `OPENAI_API_KEY` is configured. If it's not, you'll be prompted to provide it."
   ]
  },
  {
   "cell_type": "code",
   "execution_count": null,
   "metadata": {
    "id": "zKiQCaVP-v3M"
   },
   "outputs": [],
   "source": [
    "import os, getpass\n",
    "\n",
    "def _set_env(var: str):\n",
    "    if not os.environ.get(var):\n",
    "        os.environ[var] = getpass.getpass(f\"{var}: \")\n",
    "\n",
    "_set_env(\"OPENAI_API_KEY\")"
   ]
  },
  {
   "cell_type": "code",
   "execution_count": null,
   "metadata": {
    "id": "WF8bsJAwAZN-"
   },
   "outputs": [],
   "source": [
    "from langchain_openai import ChatOpenAI\n",
    "\n",
    "llm = ChatOpenAI(model=\"gpt-4o\")\n",
    "result = llm.invoke(messages)"
   ]
  },
  {
   "cell_type": "markdown",
   "metadata": {
    "id": "MZ1NJ0lnIJ4o"
   },
   "source": [
    "We can see that the result is an `AIMessage` with specific `response_metadata`."
   ]
  },
  {
   "cell_type": "code",
   "execution_count": null,
   "metadata": {
    "id": "Le3HNCU2AZLE"
   },
   "outputs": [],
   "source": [
    "type(result)"
   ]
  },
  {
   "cell_type": "code",
   "execution_count": null,
   "metadata": {
    "id": "qRJ9mxHxISLg"
   },
   "outputs": [],
   "source": [
    "result.pretty_print()"
   ]
  },
  {
   "cell_type": "markdown",
   "metadata": {
    "id": "v0kNNyeRIUnb"
   },
   "source": [
    "We can see the content by accessing the `content` property."
   ]
  },
  {
   "cell_type": "code",
   "execution_count": null,
   "metadata": {
    "id": "sZ5xuKagIT_h"
   },
   "outputs": [],
   "source": [
    "result.content"
   ]
  },
  {
   "cell_type": "markdown",
   "metadata": {
    "id": "hLK7Y0XhIcCU"
   },
   "source": [
    "### Tools\n",
    "\n"
   ]
  },
  {
   "cell_type": "markdown",
   "metadata": {
    "id": "g_AJB0zoIpLc"
   },
   "source": [
    "Tools are valuable when you need a model to interact with **external systems**.\n",
    "\n",
    "These systems (such as APIs) typically expect **structured inputs** rather than natural language.\n",
    "\n",
    "> By binding an API as a tool, you make the model aware of the expected input format.\n",
    "\n",
    "\n",
    "The model decides when to call a tool based on the user's natural language input, and the output will follow the tool's defined schema.\n",
    "\n",
    "Many LLM providers now support tool calling, and LangChain offers a straightforward interface for it.\n",
    "\n",
    "You can bind any Python function using `ChatModel.bind_tools(function)`.\n",
    "\n",
    "\n"
   ]
  },
  {
   "cell_type": "markdown",
   "metadata": {
    "id": "KmF0FoijJJbX"
   },
   "source": [
    "<img src=\"https://drive.google.com/uc?id=1rzCEThHO58tv9YPPEu0jwKaoy7DS7XAL\" alt=\"Alt text\" width=\"700\"/>"
   ]
  },
  {
   "cell_type": "markdown",
   "metadata": {
    "id": "ZUB_I6M-JKXV"
   },
   "source": [
    "Let's showcase a very simple example of tool calling. The `multiply` function is our tool."
   ]
  },
  {
   "cell_type": "code",
   "execution_count": null,
   "metadata": {
    "id": "Kk_IxVcdIYmy"
   },
   "outputs": [],
   "source": [
    "def multiply(a: int, b: int) -> int:\n",
    "    \"\"\"Multiply a and b.\n",
    "\n",
    "    Args:\n",
    "        a: first int\n",
    "        b: second int\n",
    "    \"\"\"\n",
    "    return a * b\n",
    "\n",
    "llm_with_tools = llm.bind_tools([multiply])"
   ]
  },
  {
   "cell_type": "code",
   "execution_count": null,
   "metadata": {
    "id": "_qB5xdmrDaPy"
   },
   "outputs": [],
   "source": [
    "no_tool_call = llm_with_tools.invoke(\n",
    "    [HumanMessage(content=\"Hey! How are you?\", name=\"Miguel\")]\n",
    ")"
   ]
  },
  {
   "cell_type": "code",
   "execution_count": null,
   "metadata": {
    "id": "E6PzUt6WDkDV"
   },
   "outputs": [],
   "source": [
    "no_tool_call.pretty_print()"
   ]
  },
  {
   "cell_type": "code",
   "execution_count": null,
   "metadata": {
    "id": "qYDNaTJ4DpCN"
   },
   "outputs": [],
   "source": [
    "no_tool_call.content"
   ]
  },
  {
   "cell_type": "code",
   "execution_count": null,
   "metadata": {
    "id": "d9EUrTwfJQvR"
   },
   "outputs": [],
   "source": [
    "tool_call = llm_with_tools.invoke(\n",
    "    [HumanMessage(content=f\"What is 2 multiplied by 3\", name=\"Miguel\")]\n",
    ")"
   ]
  },
  {
   "cell_type": "markdown",
   "metadata": {
    "id": "6NrTFoUqJZ5F"
   },
   "source": [
    "We can see a tool call return.\n",
    "\n",
    ">The tool call has specific arguments that match the input schema of our function along with the name of the function to call."
   ]
  },
  {
   "cell_type": "code",
   "execution_count": null,
   "metadata": {
    "id": "vYVr8RBqJWH7"
   },
   "outputs": [],
   "source": [
    "tool_call.pretty_print()"
   ]
  },
  {
   "cell_type": "code",
   "execution_count": null,
   "metadata": {
    "id": "YzDkoB5HDn3S"
   },
   "outputs": [],
   "source": [
    "tool_call.content"
   ]
  },
  {
   "cell_type": "code",
   "execution_count": null,
   "metadata": {
    "id": "dVVP5rb9JZYH"
   },
   "outputs": [],
   "source": [
    "tool_call.tool_calls"
   ]
  },
  {
   "cell_type": "markdown",
   "metadata": {
    "id": "iuvZCUP_Jm7g"
   },
   "source": [
    "### Defining the State"
   ]
  },
  {
   "cell_type": "markdown",
   "metadata": {
    "id": "vrgjmUWhJrCO"
   },
   "source": [
    "Unlike the example graph we saw earlier, in this case we need to use `messages` (the message history) within the state.\n",
    "\n",
    "If we wanted to handle this manually, we'd need to create another `TypedDict` with a messages property."
   ]
  },
  {
   "cell_type": "code",
   "execution_count": null,
   "metadata": {
    "id": "tiei1acPKNFq"
   },
   "outputs": [],
   "source": [
    "from typing_extensions import TypedDict\n",
    "from langchain_core.messages import AnyMessage\n",
    "\n",
    "class MessagesState(TypedDict):\n",
    "    messages: list[AnyMessage]"
   ]
  },
  {
   "cell_type": "markdown",
   "metadata": {
    "id": "4TFw6j4fKLez"
   },
   "source": [
    "Fortunately, LangGraph already provides a built-in state type for this: `MessagesState`.\n",
    "\n",
    "The cool thing about this class is that it already incorporates a `reducer`. This reducer logic will take care of appending the new message to the message list.\n",
    "\n",
    "> All of these operations will be perform by LangGraph under the hood"
   ]
  },
  {
   "cell_type": "code",
   "execution_count": null,
   "metadata": {
    "id": "kUHuZ25WJiKx"
   },
   "outputs": [],
   "source": [
    "from langgraph.graph import MessagesState\n",
    "\n",
    "class MessagesState(MessagesState):\n",
    "    pass"
   ]
  },
  {
   "cell_type": "markdown",
   "metadata": {
    "id": "dls1K3OzKp1p"
   },
   "source": [
    "### Building the Graph"
   ]
  },
  {
   "cell_type": "code",
   "execution_count": null,
   "metadata": {
    "id": "nSwaEIwUKmTN"
   },
   "outputs": [],
   "source": [
    "from IPython.display import Image, display\n",
    "from langgraph.graph import StateGraph, START, END\n",
    "\n",
    "# Node\n",
    "def tool_calling_llm(state: MessagesState):\n",
    "    return {\"messages\": [llm_with_tools.invoke(state[\"messages\"])]}\n",
    "\n",
    "# Build graph\n",
    "builder = StateGraph(MessagesState)\n",
    "\n",
    "builder.add_node(\"tool_calling_llm\", tool_calling_llm)\n",
    "\n",
    "builder.add_edge(START, \"tool_calling_llm\")\n",
    "builder.add_edge(\"tool_calling_llm\", END)\n",
    "\n",
    "graph = builder.compile()\n",
    "\n",
    "# View\n",
    "display(Image(graph.get_graph().draw_mermaid_png()))"
   ]
  },
  {
   "cell_type": "markdown",
   "metadata": {
    "id": "7GFGtm1CKwrS"
   },
   "source": [
    "We've implemented a very simple chain!\n",
    "\n",
    "If we pass a general message (unrelated to math operations), the LLM will respond without any tool call."
   ]
  },
  {
   "cell_type": "code",
   "execution_count": null,
   "metadata": {
    "id": "1zMqok4-KuWk"
   },
   "outputs": [],
   "source": [
    "messages = graph.invoke({\"messages\": HumanMessage(content=\"Hey there! I'm Miguel\")})\n",
    "for m in messages['messages']:\n",
    "    m.pretty_print()"
   ]
  },
  {
   "cell_type": "markdown",
   "metadata": {
    "id": "ZklgmnC8K9Rh"
   },
   "source": [
    "But, if we ask about a multiplication, the LLM will use our tool."
   ]
  },
  {
   "cell_type": "code",
   "execution_count": null,
   "metadata": {
    "id": "L6eoDXRiK7uj"
   },
   "outputs": [],
   "source": [
    "messages = graph.invoke({\"messages\": HumanMessage(content=\"Multiply 10 and 3\")})\n",
    "for m in messages['messages']:\n",
    "    m.pretty_print()"
   ]
  },
  {
   "cell_type": "markdown",
   "metadata": {
    "id": "aBR0990t5f9P"
   },
   "source": [
    "---"
   ]
  },
  {
   "cell_type": "markdown",
   "metadata": {
    "id": "eAda2e9VLdXs"
   },
   "source": [
    "## Router"
   ]
  },
  {
   "cell_type": "markdown",
   "metadata": {
    "id": "Ag8oIyEbLqRG"
   },
   "source": [
    "You can think of this as a **router**, where the chat model decides—based on user input—whether to respond directly or to call a tool.\n",
    "\n",
    "This represents a basic form of an agent, where the LLM manages control flow by choosing between tool invocation and generating a direct reply."
   ]
  },
  {
   "cell_type": "markdown",
   "metadata": {
    "id": "iYYNVAjMMS9_"
   },
   "source": [
    "<img src=\"https://drive.google.com/uc?id=18D4oguG3jAxr9GoQJcHZUevxcEdudkHh\" alt=\"Alt text\" width=\"700\"/>\n"
   ]
  },
  {
   "cell_type": "markdown",
   "metadata": {
    "id": "6dolDRujMUiZ"
   },
   "source": [
    "Let's extend the Chain example (the tool calling chain) like this:\n",
    "\n",
    "(1) Add a node that will call our tool\n",
    "\n",
    "(2) Add a conditional edge that will look at the chat model output, and route to our tool calling node or simply end if no tool call is performed"
   ]
  },
  {
   "cell_type": "code",
   "execution_count": null,
   "metadata": {
    "id": "xpM2wDs5Lc6n"
   },
   "outputs": [],
   "source": [
    "from langchain_openai import ChatOpenAI\n",
    "\n",
    "def multiply(a: int, b: int) -> int:\n",
    "    \"\"\"Multiply a and b.\n",
    "\n",
    "    Args:\n",
    "        a: first int\n",
    "        b: second int\n",
    "    \"\"\"\n",
    "    return a * b\n",
    "\n",
    "llm = ChatOpenAI(model=\"gpt-4o\")\n",
    "llm_with_tools = llm.bind_tools([multiply])"
   ]
  },
  {
   "cell_type": "markdown",
   "metadata": {
    "id": "bkbgZG8IMs2_"
   },
   "source": [
    " We use the built-in `ToolNode` and simply pass a list of our tools to initialize it.\n",
    "\n",
    " We use the built-in `tools_condition` as our conditional edge."
   ]
  },
  {
   "cell_type": "code",
   "execution_count": null,
   "metadata": {
    "id": "AuksFCwKMqQ9"
   },
   "outputs": [],
   "source": [
    "from IPython.display import Image, display\n",
    "from langgraph.graph import StateGraph, START, END\n",
    "from langgraph.graph import MessagesState\n",
    "from langgraph.prebuilt import ToolNode\n",
    "from langgraph.prebuilt import tools_condition\n",
    "\n",
    "# Node\n",
    "def tool_calling_llm(state: MessagesState):\n",
    "    return {\"messages\": [llm_with_tools.invoke(state[\"messages\"])]}\n",
    "\n",
    "# Build graph\n",
    "builder = StateGraph(MessagesState)\n",
    "\n",
    "builder.add_node(\"tool_calling_llm\", tool_calling_llm)\n",
    "builder.add_node(\"tools\", ToolNode([multiply]))\n",
    "\n",
    "builder.add_edge(START, \"tool_calling_llm\")\n",
    "builder.add_conditional_edges(\n",
    "    \"tool_calling_llm\",\n",
    "    # If the latest message (result) from assistant is a tool call -> tools_condition routes to tools\n",
    "    # If the latest message (result) from assistant is a not a tool call -> tools_condition routes to END\n",
    "    tools_condition,\n",
    ")\n",
    "builder.add_edge(\"tools\", END)\n",
    "\n",
    "graph = builder.compile()\n",
    "\n",
    "# View\n",
    "display(Image(graph.get_graph().draw_mermaid_png()))"
   ]
  },
  {
   "cell_type": "code",
   "execution_count": null,
   "metadata": {
    "id": "7Gi0nmCYMzjp"
   },
   "outputs": [],
   "source": [
    "from langchain_core.messages import HumanMessage\n",
    "messages = [HumanMessage(content=\"Hello, what is 2 multiplied by 2?\")]\n",
    "messages = graph.invoke({\"messages\": messages})\n",
    "for m in messages['messages']:\n",
    "    m.pretty_print()"
   ]
  },
  {
   "cell_type": "markdown",
   "metadata": {
    "id": "M60IiYd_5jIU"
   },
   "source": [
    "---"
   ]
  },
  {
   "cell_type": "markdown",
   "metadata": {
    "id": "k2r0zMaqCKcS"
   },
   "source": [
    "## ReAct Agent"
   ]
  },
  {
   "cell_type": "markdown",
   "metadata": {
    "id": "zhUovpg2DD7b"
   },
   "source": [
    "<img src=\"https://drive.google.com/uc?id=1HSQUzZAkCv_Ec-1EES1yZZFCPKizISsW\" alt=\"Alt text\" width=\"700\"/>"
   ]
  },
  {
   "cell_type": "markdown",
   "metadata": {
    "id": "U3TTaZQ8CPNd"
   },
   "source": [
    "The ReAct pattern is one of the most common for agentic architectures. It's the one we'll be using for our Telegram Bot as well.\n",
    "\n",
    "You can think of it as an evolution of the Router pattern.\n",
    "\n",
    "In the router above, we invoked the model — and if it decided to call a tool, we returned a ToolMessage to the user.\n",
    "\n",
    "But what if, instead, we passed that ToolMessage back to the model?\n",
    "\n",
    "\n",
    "That way, it gets to decide what's next:\n",
    "\n",
    "(1) **Call another tool**\n",
    "\n",
    "(2) **Respond directly**\n",
    "\n",
    "ReAct stands for \"Reason + Act\", and can be easily understood by the following diagram."
   ]
  },
  {
   "cell_type": "markdown",
   "metadata": {
    "id": "ZYhqDTImEWcW"
   },
   "source": [
    "<img src=\"https://drive.google.com/uc?id=1BfpjPboaDU0fJ1dtuuBuVhjZxRlVDJB1\" alt=\"Alt text\" width=\"700\"/>"
   ]
  },
  {
   "cell_type": "markdown",
   "metadata": {
    "id": "4U4GTsN5EiM-"
   },
   "source": [
    "To test how the ReAct architecture works, let's create three tools instead of one."
   ]
  },
  {
   "cell_type": "code",
   "execution_count": null,
   "metadata": {
    "id": "B5K0SJznCuH9"
   },
   "outputs": [],
   "source": [
    "from langchain_openai import ChatOpenAI\n",
    "\n",
    "def multiply(a: int, b: int) -> int:\n",
    "    \"\"\"Multiply a and b.\n",
    "\n",
    "    Args:\n",
    "        a: first int\n",
    "        b: second int\n",
    "    \"\"\"\n",
    "    return a * b\n",
    "\n",
    "def add(a: int, b: int) -> int:\n",
    "    \"\"\"Adds a and b.\n",
    "\n",
    "    Args:\n",
    "        a: first int\n",
    "        b: second int\n",
    "    \"\"\"\n",
    "    return a + b\n",
    "\n",
    "def divide(a: int, b: int) -> float:\n",
    "    \"\"\"Divide a and b.\n",
    "\n",
    "    Args:\n",
    "        a: first int\n",
    "        b: second int\n",
    "    \"\"\"\n",
    "    return a / b\n",
    "\n",
    "tools = [add, multiply, divide]"
   ]
  },
  {
   "cell_type": "markdown",
   "metadata": {
    "id": "YraxyoHFEzRA"
   },
   "source": [
    "Now, let's bind the three tools to the OpenAI ChatModel."
   ]
  },
  {
   "cell_type": "code",
   "execution_count": null,
   "metadata": {
    "id": "AOeX0tSTEylI"
   },
   "outputs": [],
   "source": [
    "llm = ChatOpenAI(model=\"gpt-4o\")\n",
    "llm_with_tools = llm.bind_tools(tools, parallel_tool_calls=False)"
   ]
  },
  {
   "cell_type": "markdown",
   "metadata": {
    "id": "df4kUJDyFH8A"
   },
   "source": [
    "Let's create a simple node for defining the assistant behaviour."
   ]
  },
  {
   "cell_type": "code",
   "execution_count": null,
   "metadata": {
    "id": "-KTMZs20E8qY"
   },
   "outputs": [],
   "source": [
    "from langgraph.graph import MessagesState\n",
    "from langchain_core.messages import HumanMessage, SystemMessage\n",
    "\n",
    "sys_msg = SystemMessage(content=\"You are a helpful assistant tasked with performing arithmetic operations\")\n",
    "\n",
    "\n",
    "def assistant(state: MessagesState):\n",
    "  return {\"messages\": [llm_with_tools.invoke([sys_msg] + state[\"messages\"])]}"
   ]
  },
  {
   "cell_type": "markdown",
   "metadata": {
    "id": "USITiDwPFTaO"
   },
   "source": [
    "Finally, let's build and compile the graph."
   ]
  },
  {
   "cell_type": "code",
   "execution_count": null,
   "metadata": {
    "id": "5QT4bqmWFQ2B"
   },
   "outputs": [],
   "source": [
    "from langgraph.graph import START, StateGraph\n",
    "from langgraph.prebuilt import tools_condition\n",
    "from langgraph.prebuilt import ToolNode\n",
    "from IPython.display import Image, display\n",
    "\n",
    "builder = StateGraph(MessagesState)\n",
    "\n",
    "builder.add_node(\"assistant\", assistant)\n",
    "builder.add_node(\"tools\", ToolNode(tools))\n",
    "\n",
    "builder.add_edge(START, \"assistant\")\n",
    "builder.add_conditional_edges(\n",
    "    \"assistant\",\n",
    "    tools_condition,\n",
    ")\n",
    "\n",
    "# IMPORTANT! -> Now the 'tools' node points back to the 'assistant' node, creating a loop\n",
    "builder.add_edge(\"tools\", \"assistant\")\n",
    "react_graph = builder.compile()\n",
    "\n",
    "display(Image(react_graph.get_graph(xray=True).draw_mermaid_png()))"
   ]
  },
  {
   "cell_type": "markdown",
   "metadata": {
    "id": "nJSVbbyNGAeQ"
   },
   "source": [
    "Let's try it out ..."
   ]
  },
  {
   "cell_type": "code",
   "execution_count": null,
   "metadata": {
    "id": "DqtwkZaEFe7t"
   },
   "outputs": [],
   "source": [
    "messages = [HumanMessage(content=\"Add 10 and 5. Multiply the output by 2. Divide the output by 5\")]\n",
    "messages = react_graph.invoke({\"messages\": messages})"
   ]
  },
  {
   "cell_type": "code",
   "execution_count": null,
   "metadata": {
    "id": "LDNsOPhrFmyv"
   },
   "outputs": [],
   "source": [
    "for m in messages['messages']:\n",
    "  m.pretty_print()"
   ]
  }
 ],
 "metadata": {
  "colab": {
   "provenance": []
  },
  "kernelspec": {
   "display_name": "Python 3",
   "name": "python3"
  },
  "language_info": {
   "name": "python"
  }
 },
 "nbformat": 4,
 "nbformat_minor": 0
}
