{
 "cells": [
  {
   "cell_type": "markdown",
   "id": "a1d309f3",
   "metadata": {},
   "source": [
    "### LangGraph Crash Course\n",
    "LangGraph is a framework designed for building complex , stateful LLM and multi-agent applications."
   ]
  },
  {
   "cell_type": "markdown",
   "id": "408da2da",
   "metadata": {},
   "source": [
    "### 1 - State"
   ]
  },
  {
   "cell_type": "code",
   "execution_count": 36,
   "id": "94dee502",
   "metadata": {},
   "outputs": [],
   "source": [
    "from typing_extensions import TypedDict\n",
    "\n",
    "class State(TypedDict):\n",
    "  graph_state: str"
   ]
  },
  {
   "cell_type": "markdown",
   "id": "b7e1b433",
   "metadata": {},
   "source": [
    "### 2 - Nodes "
   ]
  },
  {
   "cell_type": "code",
   "execution_count": 38,
   "id": "b272d120",
   "metadata": {},
   "outputs": [],
   "source": [
    "def node1(state):\n",
    "    \"\"\" Node 1 correspondiente \"\"\"\n",
    "    print(\"--Node 1---\")\n",
    "    return {\"graph_state\":state['graph_state'] + \" Welcome\"}\n",
    "\n",
    "def node2(state):\n",
    "    \"\"\" Node 2 \"\"\"\n",
    "    print(\"--- Node 2---\")\n",
    "    return {\"graph_state\":state['graph_state'] + \"to the DataHack Summit!\"}\n",
    "\n",
    "def node3(state):\n",
    "    \"\"\" Node 3\"\"\"\n",
    "    print(\"---Node 3---\")\n",
    "    return {\"graph_state\": state['graph_state'] + \"to Bengaluru!\"}\n",
    "\n",
    "\n"
   ]
  },
  {
   "cell_type": "markdown",
   "id": "8d7ab104",
   "metadata": {},
   "source": [
    "###  3 - Edges"
   ]
  },
  {
   "cell_type": "code",
   "execution_count": 3,
   "id": "21d3f9d5",
   "metadata": {},
   "outputs": [],
   "source": [
    "import random \n",
    "from typing import Literal \n",
    "\n",
    "def decide_node(state) -> Literal[\"node2\",\"node3\"]:\n",
    "    \"\"\" dedice node \"\"\"\n",
    "    user_input = state[\"graph_state\"]\n",
    "    if random.random() < 0.5:\n",
    "        return \"node2\"\n",
    "    return \"node3\"\n",
    "\n"
   ]
  },
  {
   "cell_type": "markdown",
   "id": "fc991235",
   "metadata": {},
   "source": [
    "### 4 - Graph Construction"
   ]
  },
  {
   "cell_type": "code",
   "execution_count": 4,
   "id": "fe2e5566",
   "metadata": {},
   "outputs": [
    {
     "data": {
      "image/png": "[encoded data removed]",
      "text/plain": [
       "<IPython.core.display.Image object>"
      ]
     },
     "metadata": {},
     "output_type": "display_data"
    }
   ],
   "source": [
    "from IPython.display import Image, display\n",
    "from langgraph.graph import StateGraph, START, END\n",
    "\n",
    "# Build graph\n",
    "builder = StateGraph(State)\n",
    "\n",
    "# Defining the nodes\n",
    "builder.add_node(\"node1\", node1)\n",
    "builder.add_node(\"node2\", node2)\n",
    "builder.add_node(\"node3\", node3)\n",
    "\n",
    "# Define edges with string node names\n",
    "builder.add_edge(START, \"node1\")\n",
    "builder.add_conditional_edges(\"node1\", decide_node)\n",
    "builder.add_edge(\"node2\", END)\n",
    "builder.add_edge(\"node3\", END)\n",
    "\n",
    "graph = builder.compile()\n",
    "\n",
    "display(Image(graph.get_graph().draw_mermaid_png()))"
   ]
  },
  {
   "cell_type": "code",
   "execution_count": 5,
   "id": "2e51a61b",
   "metadata": {},
   "outputs": [
    {
     "name": "stdout",
     "output_type": "stream",
     "text": [
      "--Node 1---\n",
      "---Node 3---\n"
     ]
    },
    {
     "data": {
      "text/plain": [
       "{'graph_state': 'Hi there  Welcometo Bengaluru!'}"
      ]
     },
     "execution_count": 5,
     "metadata": {},
     "output_type": "execute_result"
    }
   ],
   "source": [
    "graph.invoke({\"graph_state\": \"Hi there \"})"
   ]
  },
  {
   "cell_type": "markdown",
   "id": "a75d9da4",
   "metadata": {},
   "source": [
    "### 5 - Build LLM Application with LangGraph\n",
    "\n",
    "Chat models can handle different types of messages representing various roles in a conversation. LangChain supports key message types like:\n",
    "\n",
    "* `HumanMessage` - from the user\n",
    "* `AIMessage` - from the chat model\n",
    "* `SystemMessage` - to guide the model's behavior\n",
    "* `ToolMessage` - responses from tool calls\n",
    "\n",
    "Let's build a list of messages. Each message can include:\n",
    "\n",
    "* **content** - the message text\n",
    "* **name** - optional author name\n",
    "* **response_metadata** - optional metadata (e.g. from model providers for AIMessage, like OpenAI)\n"
   ]
  },
  {
   "cell_type": "code",
   "execution_count": 33,
   "id": "5a57b4fe",
   "metadata": {},
   "outputs": [
    {
     "name": "stdout",
     "output_type": "stream",
     "text": [
      "==================================\u001b[1m Ai Message \u001b[0m==================================\n",
      "Name: Agent\n",
      "\n",
      "Hello, I'm your virtual travel assistant for Bengaluru. How can I help you plan your visit?\n",
      "================================\u001b[1m Human Message \u001b[0m=================================\n",
      "Name: Miguel\n",
      "\n",
      "Hi, I'm visiting Bengaluru for the first time. Can you suggest key places to see?\n",
      "==================================\u001b[1m Ai Message \u001b[0m==================================\n",
      "Name: Agent\n",
      "\n",
      "Certainly. Some must-visit places include Lalbagh Botanical Garden, Bangalore Palace, and Cubbon Park. Are you interested in cultural sites, nature, or food experiences?\n",
      "================================\u001b[1m Human Message \u001b[0m=================================\n",
      "Name: Miguel\n",
      "\n",
      "I'm interested in a mix of history and local cuisine.\n",
      "==================================\u001b[1m Ai Message \u001b[0m==================================\n",
      "Name: Agent\n",
      "\n",
      "Great choice. You can explore Tipu Sultan's Summer Palace for history, then head to VV Puram Food Street for authentic local dishes.\n"
     ]
    }
   ],
   "source": [
    "from pprint import pprint \n",
    "from langchain_core.messages import AIMessage, HumanMessage \n",
    "\n",
    "messages = [AIMessage(content=\"Hello, I'm your virtual travel assistant for Bengaluru. How can I help you plan your visit?\", name=\"Agent\")]\n",
    "messages.append(HumanMessage(content=\"Hi, I'm visiting Bengaluru for the first time. Can you suggest key places to see?\", name=\"Miguel\"))\n",
    "messages.append(AIMessage(content=\"Certainly. Some must-visit places include Lalbagh Botanical Garden, Bangalore Palace, and Cubbon Park. Are you interested in cultural sites, nature, or food experiences?\", name=\"Agent\"))\n",
    "messages.append(HumanMessage(content=\"I'm interested in a mix of history and local cuisine.\", name=\"Miguel\"))\n",
    "messages.append(AIMessage(content=\"Great choice. You can explore Tipu Sultan's Summer Palace for history, then head to VV Puram Food Street for authentic local dishes.\", name=\"Agent\"))\n",
    "\n",
    "for m in messages:\n",
    "    m.pretty_print()"
   ]
  },
  {
   "cell_type": "markdown",
   "id": "802b183d",
   "metadata": {},
   "source": [
    "### 6 - Chat Models\n",
    "\n",
    "Chat models can handle different types of messages representing various roles in a conversation. LangChain supports key message types like:\n",
    "\n",
    "* `HumanMessage` - from the user\n",
    "* `AIMessage` - from the chat model\n",
    "* `SystemMessage` - to guide the model's behavior\n",
    "* `ToolMessage` - responses from tool calls\n",
    "\n",
    "Let's build a list of messages. Each message can include:\n",
    "\n",
    "* **content** - the message text\n",
    "* **name** - optional author name\n",
    "* **response_metadata** - optional metadata (e.g. from model providers for AIMessage, like OpenAI)\n"
   ]
  },
  {
   "cell_type": "code",
   "execution_count": 34,
   "id": "6019604f",
   "metadata": {},
   "outputs": [
    {
     "name": "stdout",
     "output_type": "stream",
     "text": [
      "content=\"You might also want to visit the Bangalore Fort and the historic St. Mary's Basilica. For local cuisine, don’t miss trying a traditional South Indian meal at Vidyarthi Bhavan or a plate\" additional_kwargs={'refusal': None} response_metadata={'token_usage': {'completion_tokens': 40, 'prompt_tokens': 146, 'total_tokens': 186, 'completion_tokens_details': {'accepted_prediction_tokens': 0, 'audio_tokens': 0, 'reasoning_tokens': 0, 'rejected_prediction_tokens': 0}, 'prompt_tokens_details': {'audio_tokens': 0, 'cached_tokens': 0}}, 'model_name': 'gpt-4o-mini-2024-07-18', 'system_fingerprint': 'fp_560af6e559', 'id': 'chatcmpl-CR93rCYiKcozDnq6jVTTHhDELAjss', 'service_tier': 'default', 'finish_reason': 'length', 'logprobs': None} id='run--305f7f0c-6e78-4ad4-821b-9d56fe8a91b1-0' usage_metadata={'input_tokens': 146, 'output_tokens': 40, 'total_tokens': 186, 'input_token_details': {'audio': 0, 'cache_read': 0}, 'output_token_details': {'audio': 0, 'reasoning': 0}}\n"
     ]
    }
   ],
   "source": [
    "import os\n",
    "from dotenv import load_dotenv\n",
    "from langchain_openai import ChatOpenAI\n",
    "\n",
    "# Load environment variables from .env file\n",
    "load_dotenv()\n",
    "\n",
    "# Check if API key is loaded\n",
    "\n",
    "api_key = os.getenv(\"OPENAI_API_KEY\")\n",
    "# if api_key:\n",
    "#     print(\"✅ OPENAI_API_KEY loaded successfully!\")\n",
    "#     print(f\"OPENAI_API_KEY: {api_key[:10]}...{api_key[-30:]}\")  # Show only first and last 10 chars for security\n",
    "# else:\n",
    "#     print(\"❌ OPENAI_API_KEY not found!\")\n",
    "#     print(\"Current working directory:\", os.getcwd())\n",
    "#     print(\"Files in directory:\", [f for f in os.listdir('.') if f.startswith('.env')])\n",
    "\n",
    "model = ChatOpenAI(\n",
    "    model=\"gpt-4o-mini\",\n",
    "    max_completion_tokens=40,\n",
    ")\n",
    "\n",
    "result = model.invoke(messages)\n",
    "print(result)"
   ]
  },
  {
   "cell_type": "code",
   "execution_count": 22,
   "id": "fafb8dd7",
   "metadata": {},
   "outputs": [
    {
     "name": "stdout",
     "output_type": "stream",
     "text": [
      "==================================\u001b[1m Ai Message \u001b[0m==================================\n",
      "\n",
      "Additionally, you might want to visit the National Gallery of Modern Art for a blend of history and art. After that, try local favorites like dosa, idli, and a traditional thali. Would\n"
     ]
    }
   ],
   "source": [
    "type(result)\n",
    "result.pretty_print()"
   ]
  },
  {
   "cell_type": "markdown",
   "id": "ad016db1",
   "metadata": {},
   "source": [
    "### 7  - Tools\n",
    "Tools are external functions or APIs that can be invoked by the language model to perform specific tasks. They help enhance the capabilities of the model by allowing it to access up-to-date information or perform actions beyond text generation."
   ]
  },
  {
   "cell_type": "code",
   "execution_count": 20,
   "id": "c3ae40c1",
   "metadata": {},
   "outputs": [
    {
     "name": "stdout",
     "output_type": "stream",
     "text": [
      "==================================\u001b[1m Ai Message \u001b[0m==================================\n",
      "\n",
      "Hello! I'm just a program, so I don't have feelings, but I'm here and ready to help you. How can I assist you today?\n"
     ]
    },
    {
     "data": {
      "text/plain": [
       "\"Hello! I'm just a program, so I don't have feelings, but I'm here and ready to help you. How can I assist you today?\""
      ]
     },
     "execution_count": 20,
     "metadata": {},
     "output_type": "execute_result"
    }
   ],
   "source": [
    "def multiply(a,b) -> int:\n",
    "    \"\"\" Permite multiplicar 2 valores y retornar un valor\"\"\"\n",
    "    return a *b \n",
    "\n",
    "def sum(a,b) -> int:\n",
    "    \"\"\" Permite sumar 2 valores y retonar el valor \"\"\"\n",
    "    return a +b \n",
    "\n",
    "llm_with_tools = model.bind_tools([multiply, sum])\n",
    "no_tool_call = llm_with_tools.invoke([HumanMessage(content=\"Hey! How are you ?\", name=\"Miguel\")])\n",
    "no_tool_call.pretty_print()\n",
    "no_tool_call.content\n",
    "\n",
    "\n"
   ]
  },
  {
   "cell_type": "code",
   "execution_count": 21,
   "id": "b40d4e1a",
   "metadata": {},
   "outputs": [
    {
     "name": "stdout",
     "output_type": "stream",
     "text": [
      "content='' additional_kwargs={'tool_calls': [{'id': 'call_h6SW2EZ3eR1Fon8F4OEoWg4o', 'function': {'arguments': '{\"a\":2,\"b\":3}', 'name': 'multiply'}, 'type': 'function'}], 'refusal': None} response_metadata={'token_usage': {'completion_tokens': 17, 'prompt_tokens': 91, 'total_tokens': 108, 'completion_tokens_details': {'accepted_prediction_tokens': 0, 'audio_tokens': 0, 'reasoning_tokens': 0, 'rejected_prediction_tokens': 0}, 'prompt_tokens_details': {'audio_tokens': 0, 'cached_tokens': 0}}, 'model_name': 'gpt-4o-mini-2024-07-18', 'system_fingerprint': 'fp_560af6e559', 'id': 'chatcmpl-CR8HnJ12V1qGoIhkbGbhAoLWlBKQA', 'service_tier': 'default', 'finish_reason': 'tool_calls', 'logprobs': None} id='run--46f35585-a3ad-40ce-bd81-447722e80214-0' tool_calls=[{'name': 'multiply', 'args': {'a': 2, 'b': 3}, 'id': 'call_h6SW2EZ3eR1Fon8F4OEoWg4o', 'type': 'tool_call'}] usage_metadata={'input_tokens': 91, 'output_tokens': 17, 'total_tokens': 108, 'input_token_details': {'audio': 0, 'cache_read': 0}, 'output_token_details': {'audio': 0, 'reasoning': 0}}\n"
     ]
    }
   ],
   "source": [
    "result = llm_with_tools.invoke([HumanMessage(content=\"De 2 multiplo de 3 \")])\n",
    "print(result)"
   ]
  },
  {
   "cell_type": "markdown",
   "id": "9a079421",
   "metadata": {},
   "source": [
    "### 8 - ¿Por qué el modelo no ejecutó automáticamente la herramienta?\n",
    "\n",
    "**Explicación del flujo:**\n",
    "\n",
    "1. **LLM**: Solo identifica y prepara la llamada (`tool_calls`)\n",
    "2. **ToolNode**: Ejecuta las herramientas y devuelve `ToolMessage` \n",
    "3. **LLM**: Ve el resultado y genera la respuesta final\n",
    "\n",
    "**Ejemplo paso a paso:**"
   ]
  },
  {
   "cell_type": "code",
   "execution_count": 23,
   "id": "ca5f672d",
   "metadata": {},
   "outputs": [
    {
     "name": "stdout",
     "output_type": "stream",
     "text": [
      "🧠 PASO 1: LLM identifica la necesidad de herramienta\n",
      "Contenido: ''\n",
      "Tool calls: 1 herramienta(s) identificada(s)\n",
      "\n",
      "⚙️ PASO 2: Ejecutar la herramienta manualmente\n",
      "Ejecutando: multiply(5, 7)\n",
      "Resultado de la herramienta: 35\n",
      "\n",
      "🔄 PASO 3: Darle el resultado al LLM para respuesta final\n",
      "Respuesta final del LLM:\n",
      "5 × 7 es igual a 35.\n"
     ]
    }
   ],
   "source": [
    "# Demostración paso a paso del Tool Calling\n",
    "\n",
    "# PASO 1: El LLM identifica que necesita una herramienta\n",
    "print(\"🧠 PASO 1: LLM identifica la necesidad de herramienta\")\n",
    "result = llm_with_tools.invoke([HumanMessage(content=\"¿Cuánto es 5 × 7?\")])\n",
    "print(f\"Contenido: '{result.content}'\")  # Vacío porque usará herramienta\n",
    "print(f\"Tool calls: {len(result.tool_calls)} herramienta(s) identificada(s)\")\n",
    "print()\n",
    "\n",
    "# PASO 2: Ejecutamos manualmente la herramienta\n",
    "print(\"⚙️ PASO 2: Ejecutar la herramienta manualmente\")\n",
    "if result.tool_calls:\n",
    "    tool_call = result.tool_calls[0]\n",
    "    function_name = tool_call['name']\n",
    "    args = tool_call['args']\n",
    "    print(f\"Ejecutando: {function_name}({args['a']}, {args['b']})\")\n",
    "    \n",
    "    # Ejecutar la función\n",
    "    if function_name == 'multiply':\n",
    "        tool_result = multiply(args['a'], args['b'])\n",
    "    elif function_name == 'sum':\n",
    "        tool_result = sum(args['a'], args['b'])\n",
    "    \n",
    "    print(f\"Resultado de la herramienta: {tool_result}\")\n",
    "    print()\n",
    "\n",
    "# PASO 3: Crear ToolMessage y dárselo de vuelta al LLM\n",
    "print(\"🔄 PASO 3: Darle el resultado al LLM para respuesta final\")\n",
    "from langchain_core.messages import ToolMessage\n",
    "\n",
    "tool_message = ToolMessage(\n",
    "    content=str(tool_result),\n",
    "    tool_call_id=tool_call['id']\n",
    ")\n",
    "\n",
    "# El LLM ahora puede generar una respuesta final\n",
    "final_result = model.invoke([\n",
    "    HumanMessage(content=\"¿Cuánto es 5 × 7?\"),\n",
    "    result,  # El AIMessage con tool_calls\n",
    "    tool_message  # El resultado de la herramienta\n",
    "])\n",
    "\n",
    "print(\"Respuesta final del LLM:\")\n",
    "print(final_result.content)"
   ]
  },
  {
   "cell_type": "markdown",
   "id": "f78c746c",
   "metadata": {},
   "source": [
    "### 9 - Flujo automático con LangGraph ToolNode\n",
    "\n",
    "Para automatizar la ejecución de herramientas, podemos usar `ToolNode` de LangGraph:"
   ]
  },
  {
   "cell_type": "code",
   "execution_count": 29,
   "id": "4e2366b6",
   "metadata": {},
   "outputs": [
    {
     "data": {
      "image/png": "[encoded data removed]",
      "text/plain": [
       "<IPython.core.display.Image object>"
      ]
     },
     "metadata": {},
     "output_type": "display_data"
    }
   ],
   "source": [
    "from langgraph.prebuilt import ToolNode\n",
    "from langgraph.graph import MessagesState , StateGraph, START, END \n",
    "from langgraph.prebuilt import tools_condition\n",
    "\n",
    "#crear el nodo de herramientas \n",
    "tool_node = ToolNode([multiply, sum])\n",
    "\n",
    "#funcion para el llm \n",
    "def call_model(state: MessagesState):\n",
    "    messages = state[\"messages\"]\n",
    "    response = llm_with_tools.invoke(messages)\n",
    "    return {\"messages\": [response]}  # ← FIX: Debe ser una lista\n",
    "\n",
    "#construir el grafo \n",
    "builder= StateGraph(MessagesState)\n",
    "builder.add_node(\"agent\", call_model)\n",
    "builder.add_node(\"tools\", tool_node)\n",
    "\n",
    "builder.add_edge(START,\"agent\")\n",
    "builder.add_conditional_edges(\"agent\",tools_condition)\n",
    "builder.add_edge(\"tools\",\"agent\")\n",
    "\n",
    "tool_graph = builder.compile()\n",
    "display(Image(tool_graph.get_graph().draw_mermaid_png()))  # ← FIX: tool_graph en vez de graph"
   ]
  },
  {
   "cell_type": "code",
   "execution_count": 27,
   "id": "1f5b0686",
   "metadata": {},
   "outputs": [
    {
     "name": "stdout",
     "output_type": "stream",
     "text": [
      "================================\u001b[1m Human Message \u001b[0m=================================\n",
      "\n",
      "cual es el multiplo de 2 y 3\n",
      "==================================\u001b[1m Ai Message \u001b[0m==================================\n",
      "Tool Calls:\n",
      "  multiply (call_NiQMDWXHFIJM0L6IcbOgvQid)\n",
      " Call ID: call_NiQMDWXHFIJM0L6IcbOgvQid\n",
      "  Args:\n",
      "    a: 2\n",
      "    b: 3\n",
      "=================================\u001b[1m Tool Message \u001b[0m=================================\n",
      "Name: multiply\n",
      "\n",
      "6\n",
      "==================================\u001b[1m Ai Message \u001b[0m==================================\n",
      "\n",
      "El múltiplo de 2 y 3 es 6.\n"
     ]
    }
   ],
   "source": [
    "messages = tool_graph.invoke({\"messages\":[HumanMessage(content=\"cual es el multiplo de 2 y 3\")]})\n",
    "for msg in messages[\"messages\"]:\n",
    "  msg.pretty_print()"
   ]
  },
  {
   "cell_type": "code",
   "execution_count": 28,
   "id": "5b9bf0ba",
   "metadata": {},
   "outputs": [
    {
     "name": "stdout",
     "output_type": "stream",
     "text": [
      "================================\u001b[1m Human Message \u001b[0m=================================\n",
      "\n",
      "cual es la resta de 2 y 3\n",
      "==================================\u001b[1m Ai Message \u001b[0m==================================\n",
      "\n",
      "La resta de 2 y 3 es: \n",
      "\n",
      "\\[ 2 - 3 = -1 \\]\n",
      "\n",
      "Si necesitas que realice la operación de otra forma, házmelo saber.\n"
     ]
    }
   ],
   "source": [
    "messages = tool_graph.invoke({\"messages\":[HumanMessage(content=\"cual es la resta de 2 y 3\")]})\n",
    "for msg in messages[\"messages\"]:\n",
    "  msg.pretty_print()"
   ]
  },
  {
   "cell_type": "markdown",
   "id": "8e1c1701",
   "metadata": {},
   "source": [
    "### 🔧 Diferencia entre LLM Tools y ToolNode\n",
    "\n",
    "**Concepto clave:** Deben tener exactamente las mismas herramientas para que funcionen juntas:"
   ]
  },
  {
   "cell_type": "code",
   "execution_count": null,
   "id": "52ea14bb",
   "metadata": {},
   "outputs": [],
   "source": [
    "# Ejemplo de la diferencia entre LLM Tools y ToolNode\n",
    "\n",
    "# 1. Definir TODAS las herramientas disponibles\n",
    "def divide(a: int, b: int) -> float:\n",
    "    \"\"\"Divide a por b\"\"\"\n",
    "    return a / b\n",
    "\n",
    "def subtract(a: int, b: int) -> int:\n",
    "    \"\"\"Resta b de a\"\"\"\n",
    "    return a - b\n",
    "\n",
    "# Lista completa de herramientas\n",
    "ALL_TOOLS = [multiply, sum, divide, subtract]\n",
    "\n",
    "print(\"🧠 LLM con herramientas:\")\n",
    "print(\"- El LLM CONOCE estas herramientas:\", [tool.__name__ for tool in ALL_TOOLS])\n",
    "print(\"- El LLM puede SOLICITAR su uso\")\n",
    "print(\"- El LLM NO puede EJECUTAR las funciones\")\n",
    "\n",
    "print(\"\\n⚙️ ToolNode con herramientas:\")  \n",
    "print(\"- ToolNode puede EJECUTAR estas herramientas:\", [tool.__name__ for tool in ALL_TOOLS])\n",
    "print(\"- ToolNode NO puede solicitar herramientas\")\n",
    "print(\"- ToolNode solo responde a tool_calls del LLM\")\n",
    "\n",
    "print(\"\\n🤝 Deben tener las MISMAS herramientas:\")\n",
    "print(\"✅ LLM solicita 'divide' → ToolNode puede ejecutar 'divide'\")\n",
    "print(\"❌ LLM solicita 'divide' → ToolNode no tiene 'divide' = ERROR\")"
   ]
  },
  {
   "cell_type": "markdown",
   "id": "3f9bf06b",
   "metadata": {},
   "source": [
    "### MessageStates\n",
    "\n",
    "Fortunately, LangGraph already provides a built-in state type for this: `MessagesState`.\n",
    "\n",
    "The cool thing about this class is that it already incorporates a `reducer`. This reducer logic will take care of appending the new message to the message list.\n",
    "\n",
    "\n",
    "```python\n",
    "from langgraph.graph import MessagesState\n"
   ]
  },
  {
   "cell_type": "markdown",
   "id": "b9f380c6",
   "metadata": {},
   "source": [
    "### React Agent\n",
    "React Agent es un agente que utiliza el enfoque de \"Reasoning and Acting\" (Razonamiento y Acción) para interactuar con su entorno. Este agente puede razonar sobre la información disponible, tomar decisiones basadas en ese razonamiento y luego actuar en consecuencia. En el contexto de los modelos de lenguaje y la inteligencia artificial, un React Agent puede analizar datos, formular hipótesis, y ejecutar acciones específicas para lograr objetivos definidos.\n"
   ]
  },
  {
   "cell_type": "code",
   "execution_count": null,
   "id": "2f241af2",
   "metadata": {},
   "outputs": [],
   "source": []
  },
  {
   "cell_type": "code",
   "execution_count": null,
   "id": "0ddee13b",
   "metadata": {},
   "outputs": [],
   "source": [
    "##"
   ]
  },
  {
   "cell_type": "code",
   "execution_count": null,
   "id": "c53fb7e0",
   "metadata": {},
   "outputs": [],
   "source": []
  }
 ],
 "metadata": {
  "kernelspec": {
   "display_name": "langgraph-workshop",
   "language": "python",
   "name": "python3"
  },
  "language_info": {
   "codemirror_mode": {
    "name": "ipython",
    "version": 3
   },
   "file_extension": ".py",
   "mimetype": "text/x-python",
   "name": "python",
   "nbconvert_exporter": "python",
   "pygments_lexer": "ipython3",
   "version": "3.13.1"
  }
 },
 "nbformat": 4,
 "nbformat_minor": 5
}
