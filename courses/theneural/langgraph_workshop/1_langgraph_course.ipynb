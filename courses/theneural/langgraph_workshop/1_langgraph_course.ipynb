{
 "cells": [
  {
   "cell_type": "markdown",
   "id": "a1d309f3",
   "metadata": {},
   "source": [
    "### LangGraph Crash Course\n",
    "LangGraph is a framework designed for building complex , stateful LLM and multi-agent applications."
   ]
  },
  {
   "cell_type": "markdown",
   "id": "408da2da",
   "metadata": {},
   "source": [
    "### 1 - State"
   ]
  },
  {
   "cell_type": "code",
   "execution_count": 8,
   "id": "94dee502",
   "metadata": {},
   "outputs": [],
   "source": [
    "from typing_extensions import TypedDict\n",
    "\n",
    "class State(TypedDict):\n",
    "  graph_state: str"
   ]
  },
  {
   "cell_type": "markdown",
   "id": "b7e1b433",
   "metadata": {},
   "source": [
    "### 2 - Nodes "
   ]
  },
  {
   "cell_type": "code",
   "execution_count": 9,
   "id": "b272d120",
   "metadata": {},
   "outputs": [],
   "source": [
    "def node1(state):\n",
    "    \"\"\" Node 1 correspondiente \"\"\"\n",
    "    print(\"--Node 1---\")\n",
    "    return {\"graph_state\":state['graph_state'] + \" Welcome\"}\n",
    "\n",
    "def node2(state):\n",
    "    \"\"\" Node 2 \"\"\"\n",
    "    print(\"--- Node 2---\")\n",
    "    return {\"graph_state\":state['graph_state'] + \"to the DataHack Summit!\"}\n",
    "\n",
    "def node3(state):\n",
    "    \"\"\" Node 3\"\"\"\n",
    "    print(\"---Node 3---\")\n",
    "    return {\"graph_state\": state['graph_state'] + \"to Bengaluru!\"}\n",
    "\n",
    "\n"
   ]
  },
  {
   "cell_type": "markdown",
   "id": "8d7ab104",
   "metadata": {},
   "source": [
    "###  3 - Edges"
   ]
  },
  {
   "cell_type": "code",
   "execution_count": 10,
   "id": "21d3f9d5",
   "metadata": {},
   "outputs": [],
   "source": [
    "import random \n",
    "from typing import Literal \n",
    "\n",
    "def decide_node(state) -> Literal[\"node2\",\"node3\"]:\n",
    "    \"\"\" dedice node \"\"\"\n",
    "    user_input = state[\"graph_state\"]\n",
    "    if random.random() < 0.5:\n",
    "        return \"node2\"\n",
    "    return \"node3\"\n",
    "\n"
   ]
  },
  {
   "cell_type": "markdown",
   "id": "fc991235",
   "metadata": {},
   "source": [
    "### 4 - Graph Construction"
   ]
  },
  {
   "cell_type": "code",
   "execution_count": 15,
   "id": "fe2e5566",
   "metadata": {},
   "outputs": [
    {
     "data": {
      "image/png": "[encoded data removed]",
      "text/plain": [
       "<IPython.core.display.Image object>"
      ]
     },
     "metadata": {},
     "output_type": "display_data"
    }
   ],
   "source": [
    "from IPython.display import Image, display\n",
    "from langgraph.graph import StateGraph, START, END\n",
    "\n",
    "# Build graph\n",
    "builder = StateGraph(State)\n",
    "\n",
    "# Defining the nodes\n",
    "builder.add_node(\"node1\", node1)\n",
    "builder.add_node(\"node2\", node2)\n",
    "builder.add_node(\"node3\", node3)\n",
    "\n",
    "# Define edges with string node names\n",
    "builder.add_edge(START, \"node1\")\n",
    "builder.add_conditional_edges(\"node1\", decide_node)\n",
    "builder.add_edge(\"node2\", END)\n",
    "builder.add_edge(\"node3\", END)\n",
    "\n",
    "graph = builder.compile()\n",
    "\n",
    "display(Image(graph.get_graph().draw_mermaid_png()))"
   ]
  },
  {
   "cell_type": "code",
   "execution_count": null,
   "id": "2e51a61b",
   "metadata": {},
   "outputs": [],
   "source": [
    "graph.invoke({\"graph_state\": \"Hi there \"})"
   ]
  },
  {
   "cell_type": "markdown",
   "id": "a75d9da4",
   "metadata": {},
   "source": [
    "### 5 - Build LLM Application with LangGraph\n",
    "\n",
    "Chat models can handle different types of messages representing various roles in a conversation. LangChain supports key message types like:\n",
    "\n",
    "* `HumanMessage` - from the user\n",
    "* `AIMessage` - from the chat model\n",
    "* `SystemMessage` - to guide the model's behavior\n",
    "* `ToolMessage` - responses from tool calls\n",
    "\n",
    "Let's build a list of messages. Each message can include:\n",
    "\n",
    "* **content** - the message text\n",
    "* **name** - optional author name\n",
    "* **response_metadata** - optional metadata (e.g. from model providers for AIMessage, like OpenAI)\n"
   ]
  },
  {
   "cell_type": "code",
   "execution_count": 19,
   "id": "5a57b4fe",
   "metadata": {},
   "outputs": [
    {
     "name": "stdout",
     "output_type": "stream",
     "text": [
      "==================================\u001b[1m Ai Message \u001b[0m==================================\n",
      "Name: Agent\n",
      "\n",
      "Hello, I'm your virtual travel assistant for Bengaluru. How can I help you plan your visit?\n",
      "================================\u001b[1m Human Message \u001b[0m=================================\n",
      "Name: Miguel\n",
      "\n",
      "Hi, I'm visiting Bengaluru for the first time. Can you suggest key places to see?\n",
      "==================================\u001b[1m Ai Message \u001b[0m==================================\n",
      "Name: Agent\n",
      "\n",
      "Certainly. Some must-visit places include Lalbagh Botanical Garden, Bangalore Palace, and Cubbon Park. Are you interested in cultural sites, nature, or food experiences?\n",
      "================================\u001b[1m Human Message \u001b[0m=================================\n",
      "Name: Miguel\n",
      "\n",
      "I'm interested in a mix of history and local cuisine.\n",
      "==================================\u001b[1m Ai Message \u001b[0m==================================\n",
      "Name: Agent\n",
      "\n",
      "Great choice. You can explore Tipu Sultan's Summer Palace for history, then head to VV Puram Food Street for authentic local dishes.\n"
     ]
    }
   ],
   "source": [
    "from pprint import pprint \n",
    "from langchain_core.messages import AIMessage, HumanMessage \n",
    "\n",
    "messages = [AIMessage(content=\"Hello, I'm your virtual travel assistant for Bengaluru. How can I help you plan your visit?\", name=\"Agent\")]\n",
    "messages.append(HumanMessage(content=\"Hi, I'm visiting Bengaluru for the first time. Can you suggest key places to see?\", name=\"Miguel\"))\n",
    "messages.append(AIMessage(content=\"Certainly. Some must-visit places include Lalbagh Botanical Garden, Bangalore Palace, and Cubbon Park. Are you interested in cultural sites, nature, or food experiences?\", name=\"Agent\"))\n",
    "messages.append(HumanMessage(content=\"I'm interested in a mix of history and local cuisine.\", name=\"Miguel\"))\n",
    "messages.append(AIMessage(content=\"Great choice. You can explore Tipu Sultan's Summer Palace for history, then head to VV Puram Food Street for authentic local dishes.\", name=\"Agent\"))\n",
    "\n",
    "for m in messages:\n",
    "    m.pretty_print()"
   ]
  },
  {
   "cell_type": "markdown",
   "id": "802b183d",
   "metadata": {},
   "source": [
    "### 6 - Chat Models\n",
    "\n",
    "Chat models can handle different types of messages representing various roles in a conversation. LangChain supports key message types like:\n",
    "\n",
    "* `HumanMessage` - from the user\n",
    "* `AIMessage` - from the chat model\n",
    "* `SystemMessage` - to guide the model's behavior\n",
    "* `ToolMessage` - responses from tool calls\n",
    "\n",
    "Let's build a list of messages. Each message can include:\n",
    "\n",
    "* **content** - the message text\n",
    "* **name** - optional author name\n",
    "* **response_metadata** - optional metadata (e.g. from model providers for AIMessage, like OpenAI)\n"
   ]
  },
  {
   "cell_type": "code",
   "execution_count": null,
   "id": "6019604f",
   "metadata": {},
   "outputs": [
    {
     "name": "stdout",
     "output_type": "stream",
     "text": [
      "content='Additionally, you might want to visit the National Gallery of Modern Art for a blend of history and art. After that, try local favorites like dosa, idli, and a traditional thali. Would' additional_kwargs={'refusal': None} response_metadata={'token_usage': {'completion_tokens': 40, 'prompt_tokens': 146, 'total_tokens': 186, 'completion_tokens_details': {'accepted_prediction_tokens': 0, 'audio_tokens': 0, 'reasoning_tokens': 0, 'rejected_prediction_tokens': 0}, 'prompt_tokens_details': {'audio_tokens': 0, 'cached_tokens': 0}}, 'model_name': 'gpt-4o-mini-2024-07-18', 'system_fingerprint': 'fp_51db84afab', 'id': 'chatcmpl-CQPMMTcqzZEZ7LHBDYXko3g9x5GNW', 'service_tier': 'default', 'finish_reason': 'length', 'logprobs': None} id='run--9edcf8cb-50d5-498f-a492-87b1edf29bcb-0' usage_metadata={'input_tokens': 146, 'output_tokens': 40, 'total_tokens': 186, 'input_token_details': {'audio': 0, 'cache_read': 0}, 'output_token_details': {'audio': 0, 'reasoning': 0}}\n"
     ]
    }
   ],
   "source": [
    "from load_dotenv import load_dotenv\n",
    "from langchain_openai import ChatOpenAI\n",
    "\n",
    "load_dotenv()\n",
    "\n",
    "model = ChatOpenAI(\n",
    "    model=\"gpt-4o-mini\",\n",
    "    max_completion_tokens=40,\n",
    ")\n",
    "\n",
    "result = model.invoke(messages)\n",
    "print(result)\n",
    "\n"
   ]
  },
  {
   "cell_type": "code",
   "execution_count": 22,
   "id": "fafb8dd7",
   "metadata": {},
   "outputs": [
    {
     "name": "stdout",
     "output_type": "stream",
     "text": [
      "==================================\u001b[1m Ai Message \u001b[0m==================================\n",
      "\n",
      "Additionally, you might want to visit the National Gallery of Modern Art for a blend of history and art. After that, try local favorites like dosa, idli, and a traditional thali. Would\n"
     ]
    }
   ],
   "source": [
    "type(result)\n",
    "result.pretty_print()"
   ]
  }
 ],
 "metadata": {
  "kernelspec": {
   "display_name": "langgraph-workshop",
   "language": "python",
   "name": "python3"
  },
  "language_info": {
   "codemirror_mode": {
    "name": "ipython",
    "version": 3
   },
   "file_extension": ".py",
   "mimetype": "text/x-python",
   "name": "python",
   "nbconvert_exporter": "python",
   "pygments_lexer": "ipython3",
   "version": "3.13.1"
  }
 },
 "nbformat": 4,
 "nbformat_minor": 5
}
