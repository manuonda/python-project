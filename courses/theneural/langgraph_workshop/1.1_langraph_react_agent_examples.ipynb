{
 "cells": [
  {
   "cell_type": "markdown",
   "id": "b8759a11",
   "metadata": {},
   "source": [
    "### 1 React Agent con Router y Especialista"
   ]
  },
  {
   "cell_type": "code",
   "execution_count": null,
   "id": "0b6e5c9b",
   "metadata": {},
   "outputs": [],
   "source": [
    "from typing import Literal\n",
    "from langchain_openai import ChatOpenAI\n",
    "from langchain_core.messages import HumanMessage, SystemMessage\n",
    "from langchain_core.tools import tool \n",
    "from langgraph.graph import START, MessagesState, ToolState, Graph\n",
    "from langgraph.prebuilt import ToolNode, tools_condition\n",
    "\n",
    "\n",
    "@tool\n",
    "def multiply(a: float, b: float) -> float:\n",
    "    \"\"\"Multiplies two numbers.\"\"\"\n",
    "    result = a * b\n",
    "    return f\"El resultado es: {a * b} = {result}\"\n",
    "\n",
    "@tool\n",
    "def sum(a: float, b: float) -> float:\n",
    "    \"\"\"Sums two numbers.\"\"\"\n",
    "    result = a + b\n",
    "    return f\"El resultado es: {a} + {b} = {result}\"\n",
    "\n",
    "@tool \n",
    "def web_search(quer:str) -> str:\n",
    "    \"\"\"Realiza una búsqueda en la web y devuelve un resumen de los resultados.\"\"\"\n",
    "    simulated_results = {\n",
    "        \"python programming\": \"Python es un lenguaje de programación interpretado, de alto nivel y de propósito general.\",\n",
    "        \"langchain\": \"LangChain es un marco para desarrollar aplicaciones impulsadas por modelos de lenguaje.\",\n",
    "        \"openai\": \"OpenAI es una organización de investigación en inteligencia artificial que desarrolla y promueve IA amigable.\"\n",
    "    }\n",
    "    for key in simulated_results:\n",
    "        if key in quer.lower():\n",
    "            return simulated_results[key]\n",
    "    return \"No se encontraron resultados relevantes.\"\n",
    "\n",
    "@tool\n",
    "def calculator(expression: str) -> str:\n",
    "    \"\"\"Evalue expresiones matematicas complejas.\"\"\"\n",
    "    try:\n",
    "        result = eval(expression)\n",
    "        return f\"El resultado de la expresión '{expression}' es: {result}\"\n",
    "    except Exception as e:\n",
    "        return f\"Error al evaluar la expresión: {e}\"\n",
    "\n",
    "\n",
    "TOOLS = [multiply, sum, web_search, calculator]\n",
    "\n",
    "#configuration LLM and tools \n",
    "llm = ChatOpenAI(model=\"gpt-3.5-turbo\", temperature=0)\n",
    "llm_with_tools = llm.bind_tools(TOOLS)\n",
    "\n"
   ]
  }
 ],
 "metadata": {
  "kernelspec": {
   "display_name": "langgraph-workshop",
   "language": "python",
   "name": "python3"
  },
  "language_info": {
   "name": "python",
   "version": "3.13.5"
  }
 },
 "nbformat": 4,
 "nbformat_minor": 5
}
