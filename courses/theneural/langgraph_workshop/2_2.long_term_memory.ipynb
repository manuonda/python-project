{
 "cells": [
  {
   "cell_type": "markdown",
   "id": "040a1ba0",
   "metadata": {},
   "source": [
    "### Long-term Memory in AI Systems\n",
    "Long-term memory in AI systems refers to the ability of an artificial intelligence to store and retrieve information over extended periods. This capability is crucial for tasks that require understanding context, learning from past experiences, and making informed decisions based on historical data.\n",
    "\n",
    "La memoria a largo plazo en sistemas de inteligencia artificial puede describirse como \"long-term memory in AI systems\". Este concepto es esencial para desarrollar IA que pueda adaptarse y mejorar con el tiempo, similar a cómo los humanos aprenden y recuerdan información.\n",
    "\n",
    "### Key Features of Long-term Memory in AI:\n",
    "1. **Storage Capacity**: The ability to store vast amounts of data without significant degradation over time.\n",
    "2. **Retrieval Mechanism**: Efficient methods for accessing stored information when needed.\n",
    "3. **Learning from Experience**: The capability to update and refine stored knowledge based on new experiences.\n",
    "4. **Contextual Understanding**: The ability to use past information to inform current decisions and actions.\n",
    "\n",
    "### Características clave de la memoria a largo plazo en IA:\n",
    "1. **Capacidad de almacenamiento**: La capacidad de almacenar grandes cantidades de datos sin una\n",
    "    degradación significativa con el tiempo.\n",
    "2. **Mecanismo de recuperación**: Métodos eficientes para acceder a la información almacenada cuando sea necesario.\n",
    "3. **Aprendizaje a partir de la experiencia**: La capacidad de actualizar y refinar el conocimiento almacenado en función de nuevas experiencias.\n",
    "4. **Comprensión contextual**: La capacidad de utilizar información pasada para informar decisiones y acciones actuales."
   ]
  },
  {
   "cell_type": "markdown",
   "id": "42d6815c",
   "metadata": {},
   "source": [
    "### Chroma db and Long-term Memory\n",
    "Chroma db is a database designed to support long-term memory in AI systems. It provides robust storage solutions and efficient retrieval mechanisms, making it easier for AI applications to maintain and utilize long-term knowledge.\n",
    "\n",
    "Chroma db es una base de datos diseñada para soportar la memoria a largo plazo en sistemas de IA. Proporciona soluciones de almacenamiento robustas y mecanismos de recuperación eficientes, facilitando que las aplicaciones de IA mantengan y utilicen el conocimiento a largo plazo."
   ]
  },
  {
   "cell_type": "code",
   "execution_count": 1,
   "id": "7d2d2d28",
   "metadata": {},
   "outputs": [],
   "source": [
    "from langchain_openai import OpenAIEmbeddings, ChatOpenAI\n",
    "from langchain_chroma import Chroma\n",
    "\n",
    "embbedings = OpenAIEmbeddings(model=\"text-embedding-3-large\")\n",
    "llm = ChatOpenAI(model=\"gpt-4o-mini\")\n",
    "\n",
    "vector_store = Chroma(\n",
    "    collection_name=\"example_collection\",\n",
    "    embedding_function=embbedings,\n",
    "    persist_directory=\"longterm_memory_db\"\n",
    ")\n"
   ]
  },
  {
   "cell_type": "code",
   "execution_count": 6,
   "id": "0b96eb0f",
   "metadata": {},
   "outputs": [
    {
     "name": "stdout",
     "output_type": "stream",
     "text": [
      "Documentos cargados : 1\n",
      "ids generados :  ['b94f4462-cdad-4244-9062-41987533fc18', '86c0614b-2d15-4b9d-b7ba-50f0d8d39554', '83affddf-cafa-4354-8a09-2471da8e965f', 'fe993067-4690-4dbd-810a-7f9b46e11ee1', '59a4a1d5-6bae-4958-93dc-eacfe825928a', 'e38cfe42-d142-488d-a50a-9da16fe50aae', 'e06628d6-7401-4ecd-b05c-f13140c408ba', '7103e238-0340-4fe6-bbb4-9c0e09cf5218', 'd64f5d8b-bac0-4085-859a-3924f47fe5e1', 'b3630468-bb02-421c-90c0-02cc9ff84ac0', 'd5633c34-7ba1-412f-8648-90291d110fca', '7b0d6a46-d413-413d-874f-c5f88f560edf', '96838791-4dbf-4e35-aceb-bb3b1370418d', '0633712e-9609-4ee7-9641-1ef4822225aa']\n",
      "Resultado de pruebas: 2\n",
      "results : [Document(id='b94f4462-cdad-4244-9062-41987533fc18', metadata={'source': 'text_chroma.txt'}, page_content='The system comprises of 4 stages:\\n\\n(1) Task planning: LLM works as the brain and parses the user requests into multiple tasks. There are four attributes associated with each task: task type, ID, dependencies, and arguments. They use few-shot examples to guide LLM to do task parsing and planning.'), Document(id='b15f5acf-35df-4819-bdfd-b8e3fa8740a2', metadata={'source': 'text_chroma.txt'}, page_content='The system comprises of 4 stages:\\n\\n(1) Task planning: LLM works as the brain and parses the user requests into multiple tasks. There are four attributes associated with each task: task type, ID, dependencies, and arguments. They use few-shot examples to guide LLM to do task parsing and planning.')]\n"
     ]
    }
   ],
   "source": [
    "# load document txt \n",
    "from langchain_community.document_loaders import TextLoader\n",
    "from langchain_text_splitters import RecursiveCharacterTextSplitter\n",
    "from langchain_core.documents import Document\n",
    "\n",
    "\n",
    "#loader document\n",
    "loader = TextLoader(file_path=\"text_chroma.txt\", encoding=\"utf-8\")\n",
    "documents = loader.load()\n",
    "\n",
    "print(f\"Documentos cargados : {len(documents)}\")\n",
    "\n",
    "\n",
    "## Text Splitter /dividir en chunks\n",
    "text_splitter = RecursiveCharacterTextSplitter(chunk_size=1000,chunk_overlap=200)\n",
    "chunks =  text_splitter.split_documents(documents)\n",
    "\n",
    "## add a chromadb\n",
    "ids = vector_store.add_documents(chunks)\n",
    "print(f\"ids generados :  {ids}\")\n",
    "\n",
    "test_results =  vector_store.similarity_search(\"que es llm\",k=2)\n",
    "print(f\"Resultado de pruebas: {len(test_results)}\")\n",
    "print(f\"results : {test_results}\")\n"
   ]
  },
  {
   "cell_type": "markdown",
   "id": "ce8d2ada",
   "metadata": {},
   "source": [
    "### Tool Creation for Retrievers\n",
    "In AI systems, retrievers are components that fetch relevant information from a database or knowledge base. Creating tools for retrievers allows AI agents to access and utilize this information effectively.  \n"
   ]
  },
  {
   "cell_type": "code",
   "execution_count": 14,
   "id": "1086f0f1",
   "metadata": {},
   "outputs": [
    {
     "data": {
      "image/png": "[encoded data removed]",
      "text/plain": [
       "<IPython.core.display.Image object>"
      ]
     },
     "metadata": {},
     "output_type": "display_data"
    }
   ],
   "source": [
    "from pprint import pprint\n",
    "from IPython.display import Image, display\n",
    "\n",
    "from langchain_openai.chat_models import ChatOpenAI\n",
    "from langgraph.graph import StateGraph, START, END \n",
    "from langgraph.graph import MessagesState\n",
    "from langgraph.prebuilt import ToolNode\n",
    "from langgraph.prebuilt import tools_condition\n",
    "from langchain_core.tools.retriever import create_retriever_tool\n",
    "from langchain_core.messages import HumanMessage\n",
    "\n",
    "embeddings = OpenAIEmbeddings(model=\"text-embedding-3-large\")  # Fix: era \"embbedings\"\n",
    "llm = ChatOpenAI(model=\"gpt-4o-mini\")\n",
    "\n",
    "vector_store = Chroma(\n",
    "    collection_name=\"example_collection\",\n",
    "    embedding_function=embbedings,\n",
    "    persist_directory=\"longterm_memory_db\"\n",
    ")\n",
    "\n",
    "retriever = vector_store.as_retriever(search_kwargs = {\"k\":2})\n",
    "\n",
    "retriever_tool = create_retriever_tool(\n",
    "    retriever=retriever,\n",
    "    name=\"knowledge_search_tool\",\n",
    "    description=(\n",
    "        \"Busca información relevante en la base de conocimientos sobre \"\n",
    "        \"memoria a largo plazo, IA, ChromaDB y temas relacionados. \"\n",
    "        \"Úsala cuando necesites información específica para responder preguntas.\"\n",
    "    )\n",
    ")\n",
    "\n",
    "llm_with_tools =  llm.bind_tools([retriever_tool])\n",
    "\n",
    "def assistant(state: MessagesState):\n",
    "    return {\"messages\":[llm_with_tools.invoke(state[\"messages\"])]}\n",
    "\n",
    "workflow = StateGraph(MessagesState)\n",
    "workflow.add_node(\"assitant\",assistant)\n",
    "workflow.add_node(\"tools\", ToolNode([retriever_tool]))\n",
    "\n",
    "workflow.add_edge(START,\"assitant\")\n",
    "workflow.add_conditional_edges(\n",
    "    \"assitant\",\n",
    "    tools_condition\n",
    ")\n",
    "\n",
    "workflow.add_edge(\"tools\",END)\n",
    "graph = workflow.compile()\n",
    "\n",
    "display(Image(graph.get_graph().draw_mermaid_png()))"
   ]
  },
  {
   "cell_type": "code",
   "execution_count": 16,
   "id": "c64dcd16",
   "metadata": {},
   "outputs": [
    {
     "name": "stdout",
     "output_type": "stream",
     "text": [
      "\n",
      "👤 Usuario 1: Sobre IA en el documento\n",
      "🤖 Agente: API-Bank (Li et al. 2023) is a benchmark for evaluating the performance of tool-augmented LLMs. It contains 53 commonly used API tools, a complete tool-augmented LLM workflow, and 264 annotated dialogues that involve 568 API calls. The selection of APIs is quite diverse, including search engines, calculator, calendar queries, smart home control, schedule management, health data management, account authentication workflow and more. Because there are a large number of APIs, LLM first has access to API search engine to find the right API to call and then uses the corresponding documentation to make a call.\n",
      "Pseudo code of how LLM makes an API call in API-Bank. (Image source: Li et al. 2023)\n",
      "\n",
      "In the API-Bank workflow, LLMs need to make a couple of decisions and at each step we can evaluate how accurate that decision is. Decisions include:\n",
      "\n",
      "API-Bank (Li et al. 2023) is a benchmark for evaluating the performance of tool-augmented LLMs. It contains 53 commonly used API tools, a complete tool-augmented LLM workflow, and 264 annotated dialogues that involve 568 API calls. The selection of APIs is quite diverse, including search engines, calculator, calendar queries, smart home control, schedule management, health data management, account authentication workflow and more. Because there are a large number of APIs, LLM first has access to API search engine to find the right API to call and then uses the corresponding documentation to make a call.\n",
      "Pseudo code of how LLM makes an API call in API-Bank. (Image source: Li et al. 2023)\n",
      "\n",
      "In the API-Bank workflow, LLMs need to make a couple of decisions and at each step we can evaluate how accurate that decision is. Decisions include:\n",
      "📊 Mensajes en conversación: 3\n"
     ]
    }
   ],
   "source": [
    "# ✅ CONVERSACIÓN CORREGIDA (SIN INDENTACIÓN INCORRECTA)\n",
    "conversation = [\n",
    "    \"Sobre IA en el documento\"\n",
    "]\n",
    "\n",
    "# Estado de conversación acumulativo\n",
    "conversation_state = {\"messages\": []}\n",
    "\n",
    "for i, user_message in enumerate(conversation, 1):\n",
    "    print(f\"\\n👤 Usuario {i}: {user_message}\")\n",
    "    \n",
    "    # Agregar mensaje del usuario\n",
    "    conversation_state[\"messages\"].append(HumanMessage(content=user_message))\n",
    "    \n",
    "    # Obtener respuesta del agente\n",
    "    result = graph.invoke(conversation_state)\n",
    "    \n",
    "    # Actualizar estado con la respuesta completa\n",
    "    conversation_state = result\n",
    "    \n",
    "    # Mostrar respuesta del agente\n",
    "    ai_response = result[\"messages\"][-1]\n",
    "    print(f\"🤖 Agente: {ai_response.content}\")\n",
    "    \n",
    "    # Estadísticas\n",
    "    print(f\"📊 Mensajes en conversación: {len(conversation_state['messages'])}\")"
   ]
  }
 ],
 "metadata": {
  "kernelspec": {
   "display_name": "langgraph-workshop",
   "language": "python",
   "name": "python3"
  },
  "language_info": {
   "codemirror_mode": {
    "name": "ipython",
    "version": 3
   },
   "file_extension": ".py",
   "mimetype": "text/x-python",
   "name": "python",
   "nbconvert_exporter": "python",
   "pygments_lexer": "ipython3",
   "version": "3.13.1"
  }
 },
 "nbformat": 4,
 "nbformat_minor": 5
}
