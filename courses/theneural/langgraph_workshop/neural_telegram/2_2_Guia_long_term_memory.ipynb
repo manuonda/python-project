{
 "cells": [
  {
   "cell_type": "markdown",
   "metadata": {
    "id": "x8NzhVU0QZop"
   },
   "source": [
    "# Long-term Memory"
   ]
  },
  {
   "cell_type": "code",
   "execution_count": 1,
   "metadata": {
    "executionInfo": {
     "elapsed": 47003,
     "status": "ok",
     "timestamp": 1759762696317,
     "user": {
      "displayName": "The Neural Maze",
      "userId": "13864111240537610651"
     },
     "user_tz": -120
    },
    "id": "LytNRSE899lj"
   },
   "outputs": [],
   "source": [
    "%%capture --no-stderr\n",
    "%pip install --quiet -U langchain_openai langchain_core langgraph langgraph-prebuilt langchain-chroma langchain-community"
   ]
  },
  {
   "cell_type": "code",
   "execution_count": 2,
   "metadata": {
    "colab": {
     "base_uri": "https://localhost:8080/"
    },
    "executionInfo": {
     "elapsed": 3771,
     "status": "ok",
     "timestamp": 1759762700091,
     "user": {
      "displayName": "The Neural Maze",
      "userId": "13864111240537610651"
     },
     "user_tz": -120
    },
    "id": "QbzEm4FI9_Ze",
    "outputId": "95956076-4554-4058-b1fb-f762f8d8031b"
   },
   "outputs": [
    {
     "name": "stdout",
     "output_type": "stream",
     "text": [
      "OPENAI_API_KEY: ··········\n"
     ]
    }
   ],
   "source": [
    "import os, getpass\n",
    "\n",
    "def _set_env(var: str):\n",
    "    if not os.environ.get(var):\n",
    "        os.environ[var] = getpass.getpass(f\"{var}: \")\n",
    "\n",
    "_set_env(\"OPENAI_API_KEY\")"
   ]
  },
  {
   "cell_type": "markdown",
   "metadata": {
    "id": "2FFvnZIukIo-"
   },
   "source": [
    "Now that the short-term memory is ready, it's time to implement the long-term memory.\n",
    "\n",
    "We'll use this long-term memory as a way to store external information (PDFs, articles, etc.). How? By using a Vector Database: Chroma DB."
   ]
  },
  {
   "cell_type": "markdown",
   "metadata": {
    "id": "bwVbqA4mp78S"
   },
   "source": [
    "## Indexing"
   ]
  },
  {
   "cell_type": "markdown",
   "metadata": {
    "id": "7wMcCtAIqM4_"
   },
   "source": [
    "<img src=\"https://drive.google.com/uc?id=1NgGD7Vt1-gLhlC-bMVY0vGhPyNZxamgX\" alt=\"Alt text\" width=\"800\"/>\n"
   ]
  },
  {
   "cell_type": "markdown",
   "metadata": {
    "id": "Ie4f_pKhp-sx"
   },
   "source": [
    "The first thing we'll do is to download documents from a source and index them, using ChromaDB. The first thing to do, is to instantiate the Chroma instance."
   ]
  },
  {
   "cell_type": "code",
   "execution_count": 3,
   "metadata": {
    "executionInfo": {
     "elapsed": 16166,
     "status": "ok",
     "timestamp": 1759762867210,
     "user": {
      "displayName": "The Neural Maze",
      "userId": "13864111240537610651"
     },
     "user_tz": -120
    },
    "id": "1dSRDgL-qf_4"
   },
   "outputs": [],
   "source": [
    "from langchain_openai import OpenAIEmbeddings, ChatOpenAI\n",
    "from langchain_chroma import Chroma\n",
    "\n",
    "\n",
    "embeddings = OpenAIEmbeddings(model=\"text-embedding-3-large\")\n",
    "llm = ChatOpenAI(model=\"gpt-4o-mini\")\n",
    "\n",
    "\n",
    "vector_store = Chroma(\n",
    "    collection_name=\"example_collection\",\n",
    "    embedding_function=embeddings,\n",
    "    persist_directory=\"longterm_memory_db\",\n",
    ")"
   ]
  },
  {
   "cell_type": "markdown",
   "metadata": {
    "id": "RTqssTBorBIp"
   },
   "source": [
    "Then we are going to download one of [Lilian Weng's articles](https://lilianweng.github.io/posts/2023-06-23-agent/) and apply the character splitter. This will split the document into multiple chunks."
   ]
  },
  {
   "cell_type": "code",
   "execution_count": null,
   "metadata": {
    "colab": {
     "base_uri": "https://localhost:8080/"
    },
    "executionInfo": {
     "elapsed": 1388,
     "status": "ok",
     "timestamp": 1759763001412,
     "user": {
      "displayName": "The Neural Maze",
      "userId": "13864111240537610651"
     },
     "user_tz": -120
    },
    "id": "0w3SxQWIjtRl",
    "outputId": "6a24562d-1eda-44d5-d00b-69878e70c5c2"
   },
   "outputs": [
    {
     "name": "stderr",
     "output_type": "stream",
     "text": [
      "WARNING:langchain_community.utils.user_agent:USER_AGENT environment variable not set, consider setting it to identify your requests.\n"
     ]
    }
   ],
   "source": [
    "import bs4\n",
    "from langchain_community.document_loaders import WebBaseLoader\n",
    "from     import RecursiveCharacterTextSplitter\n",
    "\n",
    "\n",
    "loader = WebBaseLoader(\n",
    "    web_paths=(\"https://lilianweng.github.io/posts/2023-06-23-agent/\",),\n",
    "    bs_kwargs=dict(\n",
    "        parse_only=bs4.SoupStrainer(\n",
    "            class_=(\"post-content\", \"post-title\", \"post-header\")\n",
    "        )\n",
    "    ),\n",
    ")\n",
    "docs = loader.load()\n",
    "\n",
    "text_splitter = RecursiveCharacterTextSplitter(chunk_size=1000, chunk_overlap=200)\n",
    "all_splits = text_splitter.split_documents(docs)"
   ]
  },
  {
   "cell_type": "markdown",
   "metadata": {
    "id": "nHT9le39rw_q"
   },
   "source": [
    "Now, we can explore the first chunk of our list."
   ]
  },
  {
   "cell_type": "code",
   "execution_count": 5,
   "metadata": {
    "colab": {
     "base_uri": "https://localhost:8080/"
    },
    "executionInfo": {
     "elapsed": 5,
     "status": "ok",
     "timestamp": 1759763006351,
     "user": {
      "displayName": "The Neural Maze",
      "userId": "13864111240537610651"
     },
     "user_tz": -120
    },
    "id": "DD43hQtUkC8g",
    "outputId": "12cc7d81-ef9b-4b6d-89f8-f6f44555ac5c"
   },
   "outputs": [
    {
     "data": {
      "text/plain": [
       "Document(metadata={'source': 'https://lilianweng.github.io/posts/2023-06-23-agent/'}, page_content='LLM Powered Autonomous Agents\\n    \\nDate: June 23, 2023  |  Estimated Reading Time: 31 min  |  Author: Lilian Weng\\n\\n\\nBuilding agents with LLM (large language model) as its core controller is a cool concept. Several proof-of-concepts demos, such as AutoGPT, GPT-Engineer and BabyAGI, serve as inspiring examples. The potentiality of LLM extends beyond generating well-written copies, stories, essays and programs; it can be framed as a powerful general problem solver.\\nAgent System Overview#\\nIn a LLM-powered autonomous agent system, LLM functions as the agent’s brain, complemented by several key components:\\n\\nPlanning\\n\\nSubgoal and decomposition: The agent breaks down large tasks into smaller, manageable subgoals, enabling efficient handling of complex tasks.\\nReflection and refinement: The agent can do self-criticism and self-reflection over past actions, learn from mistakes and refine them for future steps, thereby improving the quality of final results.\\n\\n\\nMemory')"
      ]
     },
     "execution_count": 5,
     "metadata": {},
     "output_type": "execute_result"
    }
   ],
   "source": [
    "all_splits[0]"
   ]
  },
  {
   "cell_type": "markdown",
   "metadata": {
    "id": "Q4VRLVnPr5XM"
   },
   "source": [
    "You can easily see it belongs this chunk is located at the beginning of the full article."
   ]
  },
  {
   "cell_type": "markdown",
   "metadata": {
    "id": "e8JI4iKPsNWc"
   },
   "source": [
    "<img src=\"https://drive.google.com/uc?id=1x3Sc_vCHeu6upyfhpOo1XdDki_L44Umo\" alt=\"Alt text\" width=\"800\"/>"
   ]
  },
  {
   "cell_type": "markdown",
   "metadata": {
    "id": "BwHPpKw0sV8e"
   },
   "source": [
    "The final step, is to index the chunks!"
   ]
  },
  {
   "cell_type": "code",
   "execution_count": 6,
   "metadata": {
    "executionInfo": {
     "elapsed": 2486,
     "status": "ok",
     "timestamp": 1759763058919,
     "user": {
      "displayName": "The Neural Maze",
      "userId": "13864111240537610651"
     },
     "user_tz": -120
    },
    "id": "j5za1ZbwrwS1"
   },
   "outputs": [],
   "source": [
    "_ = vector_store.add_documents(documents=all_splits)"
   ]
  },
  {
   "cell_type": "markdown",
   "metadata": {
    "id": "Aqk5X4YqskqU"
   },
   "source": [
    "### Retrieval"
   ]
  },
  {
   "cell_type": "markdown",
   "metadata": {
    "id": "foH1TOWUspaZ"
   },
   "source": [
    "<img src=\"https://drive.google.com/uc?id=15syVDH5hSHOpRZJFR2xcEweBmXNc2Wn_\" alt=\"Alt text\" width=\"800\"/>"
   ]
  },
  {
   "cell_type": "markdown",
   "metadata": {
    "id": "26VVK1OtsoC9"
   },
   "source": [
    "Now that all the chunks are indexed, we need a way to access the information stored in Chroma. Of course, we could query directly, like this:"
   ]
  },
  {
   "cell_type": "code",
   "execution_count": 7,
   "metadata": {
    "executionInfo": {
     "elapsed": 1010,
     "status": "ok",
     "timestamp": 1759763159733,
     "user": {
      "displayName": "The Neural Maze",
      "userId": "13864111240537610651"
     },
     "user_tz": -120
    },
    "id": "CrHfQTwmsbLl"
   },
   "outputs": [],
   "source": [
    "results = vector_store.similarity_search(\n",
    "    \"What is task decompostion?\",\n",
    "    k=1,\n",
    ")"
   ]
  },
  {
   "cell_type": "code",
   "execution_count": 8,
   "metadata": {
    "colab": {
     "base_uri": "https://localhost:8080/"
    },
    "executionInfo": {
     "elapsed": 12,
     "status": "ok",
     "timestamp": 1759763161639,
     "user": {
      "displayName": "The Neural Maze",
      "userId": "13864111240537610651"
     },
     "user_tz": -120
    },
    "id": "xuvOIHt2tEUP",
    "outputId": "ac666299-1b59-4df9-f3bc-afc2d6dc67f9"
   },
   "outputs": [
    {
     "data": {
      "text/plain": [
       "[Document(id='6df989c3-9fda-4241-a88e-7c10c14ba168', metadata={'source': 'https://lilianweng.github.io/posts/2023-06-23-agent/'}, page_content='Task decomposition can be done (1) by LLM with simple prompting like \"Steps for XYZ.\\\\n1.\", \"What are the subgoals for achieving XYZ?\", (2) by using task-specific instructions; e.g. \"Write a story outline.\" for writing a novel, or (3) with human inputs.\\nAnother quite distinct approach, LLM+P (Liu et al. 2023), involves relying on an external classical planner to do long-horizon planning. This approach utilizes the Planning Domain Definition Language (PDDL) as an intermediate interface to describe the planning problem. In this process, LLM (1) translates the problem into “Problem PDDL”, then (2) requests a classical planner to generate a PDDL plan based on an existing “Domain PDDL”, and finally (3) translates the PDDL plan back into natural language. Essentially, the planning step is outsourced to an external tool, assuming the availability of domain-specific PDDL and a suitable planner which is common in certain robotic setups but not in many other domains.\\nSelf-Reflection#')]"
      ]
     },
     "execution_count": 8,
     "metadata": {},
     "output_type": "execute_result"
    }
   ],
   "source": [
    "results"
   ]
  },
  {
   "cell_type": "code",
   "execution_count": 9,
   "metadata": {
    "executionInfo": {
     "elapsed": 22,
     "status": "ok",
     "timestamp": 1759763248652,
     "user": {
      "displayName": "The Neural Maze",
      "userId": "13864111240537610651"
     },
     "user_tz": -120
    },
    "id": "nZBacoglz2A9"
   },
   "outputs": [],
   "source": [
    "from langchain_core.tools.retriever import create_retriever_tool"
   ]
  },
  {
   "cell_type": "code",
   "execution_count": 10,
   "metadata": {
    "executionInfo": {
     "elapsed": 5,
     "status": "ok",
     "timestamp": 1759763271571,
     "user": {
      "displayName": "The Neural Maze",
      "userId": "13864111240537610651"
     },
     "user_tz": -120
    },
    "id": "AfNHbg4qz1-l"
   },
   "outputs": [],
   "source": [
    "retriever = vector_store.as_retriever(search_kwargs={\"k\": 2})\n",
    "\n",
    "retriever_tool = create_retriever_tool(\n",
    "    retriever=retriever,\n",
    "    name=\"retrieve_article_info_tool\",\n",
    "    description=\"Retrieve some information from Lilian Weng's article\",\n",
    ")"
   ]
  },
  {
   "cell_type": "code",
   "execution_count": 11,
   "metadata": {
    "colab": {
     "base_uri": "https://localhost:8080/"
    },
    "executionInfo": {
     "elapsed": 2204,
     "status": "ok",
     "timestamp": 1759763308701,
     "user": {
      "displayName": "The Neural Maze",
      "userId": "13864111240537610651"
     },
     "user_tz": -120
    },
    "id": "-F1nEjMu2xuO",
    "outputId": "5a947d93-c960-4a98-d572-12298c35a412"
   },
   "outputs": [
    {
     "data": {
      "text/plain": [
       "[Document(id='6df989c3-9fda-4241-a88e-7c10c14ba168', metadata={'source': 'https://lilianweng.github.io/posts/2023-06-23-agent/'}, page_content='Task decomposition can be done (1) by LLM with simple prompting like \"Steps for XYZ.\\\\n1.\", \"What are the subgoals for achieving XYZ?\", (2) by using task-specific instructions; e.g. \"Write a story outline.\" for writing a novel, or (3) with human inputs.\\nAnother quite distinct approach, LLM+P (Liu et al. 2023), involves relying on an external classical planner to do long-horizon planning. This approach utilizes the Planning Domain Definition Language (PDDL) as an intermediate interface to describe the planning problem. In this process, LLM (1) translates the problem into “Problem PDDL”, then (2) requests a classical planner to generate a PDDL plan based on an existing “Domain PDDL”, and finally (3) translates the PDDL plan back into natural language. Essentially, the planning step is outsourced to an external tool, assuming the availability of domain-specific PDDL and a suitable planner which is common in certain robotic setups but not in many other domains.\\nSelf-Reflection#'),\n",
       " Document(id='dedf936d-c813-45a2-85f1-7c43806e4c00', metadata={'source': 'https://lilianweng.github.io/posts/2023-06-23-agent/'}, page_content='Component One: Planning#\\nA complicated task usually involves many steps. An agent needs to know what they are and plan ahead.\\nTask Decomposition#\\nChain of thought (CoT; Wei et al. 2022) has become a standard prompting technique for enhancing model performance on complex tasks. The model is instructed to “think step by step” to utilize more test-time computation to decompose hard tasks into smaller and simpler steps. CoT transforms big tasks into multiple manageable tasks and shed lights into an interpretation of the model’s thinking process.\\nTree of Thoughts (Yao et al. 2023) extends CoT by exploring multiple reasoning possibilities at each step. It first decomposes the problem into multiple thought steps and generates multiple thoughts per step, creating a tree structure. The search process can be BFS (breadth-first search) or DFS (depth-first search) with each state evaluated by a classifier (via a prompt) or majority vote.')]"
      ]
     },
     "execution_count": 11,
     "metadata": {},
     "output_type": "execute_result"
    }
   ],
   "source": [
    "retriever.invoke(\"What is task decomposition?\")"
   ]
  },
  {
   "cell_type": "code",
   "execution_count": 12,
   "metadata": {
    "colab": {
     "base_uri": "https://localhost:8080/",
     "height": 157
    },
    "executionInfo": {
     "elapsed": 263,
     "status": "ok",
     "timestamp": 1759763317571,
     "user": {
      "displayName": "The Neural Maze",
      "userId": "13864111240537610651"
     },
     "user_tz": -120
    },
    "id": "w0zxAaaQtfN_",
    "outputId": "e4a5c2aa-9f7f-49e4-d85b-0d2242b71ac1"
   },
   "outputs": [
    {
     "data": {
      "application/vnd.google.colaboratory.intrinsic+json": {
       "type": "string"
      },
      "text/plain": [
       "'Task decomposition can be done (1) by LLM with simple prompting like \"Steps for XYZ.\\\\n1.\", \"What are the subgoals for achieving XYZ?\", (2) by using task-specific instructions; e.g. \"Write a story outline.\" for writing a novel, or (3) with human inputs.\\nAnother quite distinct approach, LLM+P (Liu et al. 2023), involves relying on an external classical planner to do long-horizon planning. This approach utilizes the Planning Domain Definition Language (PDDL) as an intermediate interface to describe the planning problem. In this process, LLM (1) translates the problem into “Problem PDDL”, then (2) requests a classical planner to generate a PDDL plan based on an existing “Domain PDDL”, and finally (3) translates the PDDL plan back into natural language. Essentially, the planning step is outsourced to an external tool, assuming the availability of domain-specific PDDL and a suitable planner which is common in certain robotic setups but not in many other domains.\\nSelf-Reflection#\\n\\nComponent One: Planning#\\nA complicated task usually involves many steps. An agent needs to know what they are and plan ahead.\\nTask Decomposition#\\nChain of thought (CoT; Wei et al. 2022) has become a standard prompting technique for enhancing model performance on complex tasks. The model is instructed to “think step by step” to utilize more test-time computation to decompose hard tasks into smaller and simpler steps. CoT transforms big tasks into multiple manageable tasks and shed lights into an interpretation of the model’s thinking process.\\nTree of Thoughts (Yao et al. 2023) extends CoT by exploring multiple reasoning possibilities at each step. It first decomposes the problem into multiple thought steps and generates multiple thoughts per step, creating a tree structure. The search process can be BFS (breadth-first search) or DFS (depth-first search) with each state evaluated by a classifier (via a prompt) or majority vote.'"
      ]
     },
     "execution_count": 12,
     "metadata": {},
     "output_type": "execute_result"
    }
   ],
   "source": [
    "retriever_tool.invoke(\"What is task decomposition?\")"
   ]
  },
  {
   "cell_type": "markdown",
   "metadata": {
    "id": "Z53pl9Pjt77m"
   },
   "source": [
    "Now, we need to add this retriever as a `Tool` to our graph. That's very easy if you use the `ToolNode` class."
   ]
  },
  {
   "cell_type": "code",
   "execution_count": 13,
   "metadata": {
    "colab": {
     "base_uri": "https://localhost:8080/",
     "height": 266
    },
    "executionInfo": {
     "elapsed": 1011,
     "status": "ok",
     "timestamp": 1759763648705,
     "user": {
      "displayName": "The Neural Maze",
      "userId": "13864111240537610651"
     },
     "user_tz": -120
    },
    "id": "Yi76zW8MtidV",
    "outputId": "e9586c74-3b57-4721-b807-d675facd1734"
   },
   "outputs": [
    {
     "data": {
      "image/png": "[encoded data removed]",
      "text/plain": [
       "<IPython.core.display.Image object>"
      ]
     },
     "metadata": {},
     "output_type": "display_data"
    }
   ],
   "source": [
    "from pprint import pprint\n",
    "from IPython.display import Image, display\n",
    "\n",
    "\n",
    "from langgraph.graph import StateGraph, START, END\n",
    "from langgraph.graph import MessagesState\n",
    "from langgraph.prebuilt import ToolNode\n",
    "from langgraph.prebuilt import tools_condition\n",
    "\n",
    "\n",
    "llm_with_tool = llm.bind_tools([retriever_tool])\n",
    "\n",
    "# Node\n",
    "def assistant(state: MessagesState):\n",
    "    return {\"messages\": [llm_with_tool.invoke(state[\"messages\"])]}\n",
    "\n",
    "# Build graph\n",
    "workflow = StateGraph(MessagesState)\n",
    "\n",
    "# Add nodes\n",
    "workflow.add_node(\"assistant\", assistant)\n",
    "workflow.add_node(\"tools\", ToolNode([retriever_tool]))\n",
    "\n",
    "workflow.add_edge(START, \"assistant\")\n",
    "workflow.add_conditional_edges(\n",
    "    \"assistant\",\n",
    "    tools_condition,\n",
    ")\n",
    "workflow.add_edge(\"tools\", \"assistant\")\n",
    "\n",
    "# Compile the graph\n",
    "graph = workflow.compile()\n",
    "\n",
    "# View\n",
    "display(Image(graph.get_graph().draw_mermaid_png()))"
   ]
  },
  {
   "cell_type": "code",
   "execution_count": 14,
   "metadata": {
    "executionInfo": {
     "elapsed": 11000,
     "status": "ok",
     "timestamp": 1759763683196,
     "user": {
      "displayName": "The Neural Maze",
      "userId": "13864111240537610651"
     },
     "user_tz": -120
    },
    "id": "Z4SlkW8Tu3NC"
   },
   "outputs": [],
   "source": [
    "results = graph.invoke(\n",
    "    {\"messages\": \"What is task decomposition?\"}\n",
    ")"
   ]
  },
  {
   "cell_type": "markdown",
   "metadata": {
    "id": "s1RRYML23z5X"
   },
   "source": [
    "If we check the messages from the returned Graph state, we'll see some `ToolMessages` involved, which means the LLM has fetched some relevant documents from Chroma."
   ]
  },
  {
   "cell_type": "code",
   "execution_count": 15,
   "metadata": {
    "colab": {
     "base_uri": "https://localhost:8080/"
    },
    "executionInfo": {
     "elapsed": 7,
     "status": "ok",
     "timestamp": 1759763684099,
     "user": {
      "displayName": "The Neural Maze",
      "userId": "13864111240537610651"
     },
     "user_tz": -120
    },
    "id": "CROPeyuz3YQP",
    "outputId": "1d797e2f-5f01-42ed-915d-ae17864d019b"
   },
   "outputs": [
    {
     "data": {
      "text/plain": [
       "{'messages': [HumanMessage(content='What is task decomposition?', additional_kwargs={}, response_metadata={}, id='a6439a07-9ff0-4b46-8d7f-12160225ed6d'),\n",
       "  AIMessage(content='', additional_kwargs={'tool_calls': [{'id': 'call_6WDLoNpsWOho33GVWYzzfs7J', 'function': {'arguments': '{\"query\":\"task decomposition\"}', 'name': 'retrieve_article_info_tool'}, 'type': 'function'}], 'refusal': None}, response_metadata={'token_usage': {'completion_tokens': 17, 'prompt_tokens': 64, 'total_tokens': 81, 'completion_tokens_details': {'accepted_prediction_tokens': 0, 'audio_tokens': 0, 'reasoning_tokens': 0, 'rejected_prediction_tokens': 0}, 'prompt_tokens_details': {'audio_tokens': 0, 'cached_tokens': 0}}, 'model_name': 'gpt-4o-mini-2024-07-18', 'system_fingerprint': 'fp_51db84afab', 'id': 'chatcmpl-CNhCzmepnWhL8j5kQlhZ96HjLD473', 'service_tier': 'default', 'finish_reason': 'tool_calls', 'logprobs': None}, id='run--a0c29dfe-e744-4e79-876c-542b32a6bbce-0', tool_calls=[{'name': 'retrieve_article_info_tool', 'args': {'query': 'task decomposition'}, 'id': 'call_6WDLoNpsWOho33GVWYzzfs7J', 'type': 'tool_call'}], usage_metadata={'input_tokens': 64, 'output_tokens': 17, 'total_tokens': 81, 'input_token_details': {'audio': 0, 'cache_read': 0}, 'output_token_details': {'audio': 0, 'reasoning': 0}}),\n",
       "  ToolMessage(content='Task decomposition can be done (1) by LLM with simple prompting like \"Steps for XYZ.\\\\n1.\", \"What are the subgoals for achieving XYZ?\", (2) by using task-specific instructions; e.g. \"Write a story outline.\" for writing a novel, or (3) with human inputs.\\nAnother quite distinct approach, LLM+P (Liu et al. 2023), involves relying on an external classical planner to do long-horizon planning. This approach utilizes the Planning Domain Definition Language (PDDL) as an intermediate interface to describe the planning problem. In this process, LLM (1) translates the problem into “Problem PDDL”, then (2) requests a classical planner to generate a PDDL plan based on an existing “Domain PDDL”, and finally (3) translates the PDDL plan back into natural language. Essentially, the planning step is outsourced to an external tool, assuming the availability of domain-specific PDDL and a suitable planner which is common in certain robotic setups but not in many other domains.\\nSelf-Reflection#\\n\\nComponent One: Planning#\\nA complicated task usually involves many steps. An agent needs to know what they are and plan ahead.\\nTask Decomposition#\\nChain of thought (CoT; Wei et al. 2022) has become a standard prompting technique for enhancing model performance on complex tasks. The model is instructed to “think step by step” to utilize more test-time computation to decompose hard tasks into smaller and simpler steps. CoT transforms big tasks into multiple manageable tasks and shed lights into an interpretation of the model’s thinking process.\\nTree of Thoughts (Yao et al. 2023) extends CoT by exploring multiple reasoning possibilities at each step. It first decomposes the problem into multiple thought steps and generates multiple thoughts per step, creating a tree structure. The search process can be BFS (breadth-first search) or DFS (depth-first search) with each state evaluated by a classifier (via a prompt) or majority vote.', name='retrieve_article_info_tool', id='945bcc0c-92d5-470e-94fb-656810b0967b', tool_call_id='call_6WDLoNpsWOho33GVWYzzfs7J'),\n",
       "  AIMessage(content='Task decomposition involves breaking down a complex task into smaller, more manageable sub-tasks or steps. This can be accomplished through various methods:\\n\\n1. **Prompting Techniques**: Using simple prompts such as \"Steps for XYZ\" or \"What are the subgoals for achieving XYZ?\" to guide the process.\\n\\n2. **Task-Specific Instructions**: Providing instructions tailored to a specific task, like \"Write a story outline\" for novel writing.\\n\\n3. **Human Inputs**: Engaging human input to facilitate the breakdown of tasks.\\n\\nAn advanced approach to task decomposition is the LLM+P method, which leverages an external classical planner for long-horizon planning. This method utilizes the Planning Domain Definition Language (PDDL) as an interface to frame the planning problem. The process involves:\\n\\n- Translating the problem into a \"Problem PDDL\".\\n- Using a classical planner to generate a PDDL plan informed by an existing \"Domain PDDL\".\\n- Translating the PDDL plan back into natural language.\\n\\nAdditionally, techniques like Chain of Thought (CoT) and Tree of Thoughts expand on task decomposition. CoT encourages models to \"think step by step,\" while Tree of Thoughts develops multiple reasoning paths for each step, forming a tree structure to explore various possibilities during the task decomposition and solution generation process.', additional_kwargs={'refusal': None}, response_metadata={'token_usage': {'completion_tokens': 265, 'prompt_tokens': 499, 'total_tokens': 764, 'completion_tokens_details': {'accepted_prediction_tokens': 0, 'audio_tokens': 0, 'reasoning_tokens': 0, 'rejected_prediction_tokens': 0}, 'prompt_tokens_details': {'audio_tokens': 0, 'cached_tokens': 0}}, 'model_name': 'gpt-4o-mini-2024-07-18', 'system_fingerprint': 'fp_51db84afab', 'id': 'chatcmpl-CNhD148U6E4h9csL5OW7UT0aCnbb4', 'service_tier': 'default', 'finish_reason': 'stop', 'logprobs': None}, id='run--d1bdc0d5-3e57-44d6-bf8b-c4b3673febfe-0', usage_metadata={'input_tokens': 499, 'output_tokens': 265, 'total_tokens': 764, 'input_token_details': {'audio': 0, 'cache_read': 0}, 'output_token_details': {'audio': 0, 'reasoning': 0}})]}"
      ]
     },
     "execution_count": 15,
     "metadata": {},
     "output_type": "execute_result"
    }
   ],
   "source": [
    "results"
   ]
  },
  {
   "cell_type": "markdown",
   "metadata": {
    "id": "aI5C_Yo04BI3"
   },
   "source": [
    "If you want to check the final results, just check the last `AIMessage`."
   ]
  },
  {
   "cell_type": "code",
   "execution_count": 16,
   "metadata": {
    "colab": {
     "base_uri": "https://localhost:8080/"
    },
    "executionInfo": {
     "elapsed": 2,
     "status": "ok",
     "timestamp": 1759763687911,
     "user": {
      "displayName": "The Neural Maze",
      "userId": "13864111240537610651"
     },
     "user_tz": -120
    },
    "id": "OmvHEMh03Y_N",
    "outputId": "1b13bffb-787a-40b5-d89f-a2e7dd372484"
   },
   "outputs": [
    {
     "name": "stdout",
     "output_type": "stream",
     "text": [
      "Task decomposition involves breaking down a complex task into smaller, more manageable sub-tasks or steps. This can be accomplished through various methods:\n",
      "\n",
      "1. **Prompting Techniques**: Using simple prompts such as \"Steps for XYZ\" or \"What are the subgoals for achieving XYZ?\" to guide the process.\n",
      "\n",
      "2. **Task-Specific Instructions**: Providing instructions tailored to a specific task, like \"Write a story outline\" for novel writing.\n",
      "\n",
      "3. **Human Inputs**: Engaging human input to facilitate the breakdown of tasks.\n",
      "\n",
      "An advanced approach to task decomposition is the LLM+P method, which leverages an external classical planner for long-horizon planning. This method utilizes the Planning Domain Definition Language (PDDL) as an interface to frame the planning problem. The process involves:\n",
      "\n",
      "- Translating the problem into a \"Problem PDDL\".\n",
      "- Using a classical planner to generate a PDDL plan informed by an existing \"Domain PDDL\".\n",
      "- Translating the PDDL plan back into natural language.\n",
      "\n",
      "Additionally, techniques like Chain of Thought (CoT) and Tree of Thoughts expand on task decomposition. CoT encourages models to \"think step by step,\" while Tree of Thoughts develops multiple reasoning paths for each step, forming a tree structure to explore various possibilities during the task decomposition and solution generation process.\n"
     ]
    }
   ],
   "source": [
    "print(results[\"messages\"][-1].content)"
   ]
  },
  {
   "cell_type": "code",
   "execution_count": null,
   "metadata": {
    "id": "GTDSWkN_FulK"
   },
   "outputs": [],
   "source": []
  }
 ],
 "metadata": {
  "colab": {
   "provenance": []
  },
  "kernelspec": {
   "display_name": "Python 3",
   "name": "python3"
  },
  "language_info": {
   "name": "python"
  }
 },
 "nbformat": 4,
 "nbformat_minor": 0
}
