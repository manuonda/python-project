{
 "cells": [
  {
   "cell_type": "markdown",
   "id": "9c2fd9be",
   "metadata": {},
   "source": [
    "### Node Langgraph \n",
    "Node Langgraph is a powerful tool for building and managing language models using a graph-based approach. It allows developers to create complex language processing workflows by connecting various nodes that represent different language processing tasks."
   ]
  },
  {
   "cell_type": "code",
   "execution_count": null,
   "id": "759163e1",
   "metadata": {},
   "outputs": [],
   "source": [
    "from IPython.display import Image, display\n",
    "import operator\n",
    "from typing import Annotated, List, Literal, TypedDict\n",
    "from langgraph.graph import END, START, StateGraph\n",
    "from langgraph.types import Command , interrupt\n",
    "\n"
   ]
  }
 ],
 "metadata": {
  "kernelspec": {
   "display_name": "langgraph-workshop",
   "language": "python",
   "name": "python3"
  },
  "language_info": {
   "name": "python",
   "version": "3.13.5"
  }
 },
 "nbformat": 4,
 "nbformat_minor": 5
}
