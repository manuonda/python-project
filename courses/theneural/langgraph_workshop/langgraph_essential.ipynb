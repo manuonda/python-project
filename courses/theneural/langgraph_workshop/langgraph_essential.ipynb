{
 "cells": [
  {
   "cell_type": "markdown",
   "id": "9c2fd9be",
   "metadata": {},
   "source": [
    "### Node Langgraph \n",
    "Node Langgraph is a powerful tool for building and managing language models using a graph-based approach. It allows developers to create complex language processing workflows by connecting various nodes that represent different language processing tasks."
   ]
  },
  {
   "cell_type": "code",
   "execution_count": 1,
   "id": "759163e1",
   "metadata": {},
   "outputs": [],
   "source": [
    "from IPython.display import Image, display\n",
    "import operator\n",
    "from typing import Annotated, List, Literal, TypedDict\n",
    "from langgraph.graph import END, START, StateGraph\n",
    "from langgraph.types import Command , interrupt\n",
    "\n"
   ]
  },
  {
   "cell_type": "code",
   "execution_count": null,
   "id": "a5e8f733",
   "metadata": {},
   "outputs": [],
   "source": [
    "class State(TypedDict):\n",
    "    mlist:List[str]\n",
    "    "
   ]
  },
  {
   "cell_type": "code",
   "execution_count": 6,
   "id": "097d1f18",
   "metadata": {},
   "outputs": [
    {
     "data": {
      "image/png": "[encoded data removed]",
      "text/plain": [
       "<IPython.core.display.Image object>"
      ]
     },
     "metadata": {},
     "output_type": "display_data"
    }
   ],
   "source": [
    "def node_a(state:State) -> State:\n",
    "    \"\"\" node a \"\"\"\n",
    "    print(f\"node a is receiving {state['mlist']}\")\n",
    "    note =\"Hello world from node a\"\n",
    "    return (State(nlist = [note]))\n",
    "\n",
    "builder = StateGraph(State)\n",
    "builder.add_node(\"a\", node_a)\n",
    "builder.add_edge(START, \"a\")\n",
    "builder.add_edge(\"a\",END)\n",
    "graph = builder.compile()\n",
    "\n",
    "display(Image(graph.get_graph().draw_mermaid_png()))\n",
    "#print(graph.get_graph().draw_mermaid())\n",
    "\n",
    "\n"
   ]
  },
  {
   "cell_type": "code",
   "execution_count": 7,
   "id": "8cbe2a92",
   "metadata": {},
   "outputs": [
    {
     "name": "stdout",
     "output_type": "stream",
     "text": [
      "node a is receiving ['Hello Node, how are you']\n"
     ]
    },
    {
     "data": {
      "text/plain": [
       "{'mlist': ['Hello Node, how are you']}"
      ]
     },
     "execution_count": 7,
     "metadata": {},
     "output_type": "execute_result"
    }
   ],
   "source": [
    "initial_state = State(\n",
    "    mlist = [\"Hello Node, how are you\"]\n",
    ")\n",
    "graph.invoke(initial_state)"
   ]
  },
  {
   "cell_type": "markdown",
   "id": "94085aee",
   "metadata": {},
   "source": [
    "### Edges and Parallel Execution\n",
    "Los Edges definen el flujo entre nodos en el grafo. Hay varios tipos:\n",
    "1. EDGE NORMAL (secuencial)\n",
    "2. CONDITIONAL EDGE (condicional)\n",
    "\n",
    "### . Parallel Execution (Ejecución Paralela)\n",
    "Ejecuta múltiples nodos simultáneamente para mejorar rendimiento\n",
    "### Map Reduce\n",
    "El patrón Map-Reduce divide trabajo en paralelo (Map) y luego combina resultados (Reduce):\n",
    "\n",
    "```python\n",
    "    summaries: Annotated[List[str], operator.add] (type, reducer)\n",
    "```\n",
    "\n",
    "### Regla principal\n",
    "```sh\n",
    "Cuando múltiples nodos escriben en la misma clave en paralelo, usa Annotated con un reductor adecuado (e.g., operator.add) para combinar resultados automáticamente.\n",
    "```\n"
   ]
  },
  {
   "cell_type": "code",
   "execution_count": null,
   "id": "35672744",
   "metadata": {},
   "outputs": [
    {
     "data": {
      "image/png": "[encoded data removed]",
      "text/plain": [
       "<IPython.core.display.Image object>"
      ]
     },
     "metadata": {},
     "output_type": "display_data"
    }
   ],
   "source": [
    "from IPython.display import Image, display\n",
    "import operator\n",
    "from typing import Annotated, List, Literal, TypedDict\n",
    "from langgraph.graph import END, START, StateGraph\n",
    "from langgraph.types import Command , interrupt\n",
    "\n",
    "\n",
    "class State(TypedDict):\n",
    "    nlist: Annotated[List[str], operator.add]  # ← Reducer necesario\n",
    "    \n",
    "def node_a(state: State)-> State:\n",
    "    \"\"\"\" node a \"\"\"\n",
    "    print(f\"Adding 'A' to {state['nlist']}\")\n",
    "    return(State(nlist=[\"A\"]))\n",
    "\n",
    "def node_b(state:State) -> State:\n",
    "    \"\"\" node b\"\"\"\n",
    "    print(f\"Add 'B' to {state['nlist']}\")\n",
    "    return(State(nlist=[\"B\"]))\n",
    "\n",
    "def node_c(state:State) -> State:\n",
    "    \"\"\" node c\"\"\"\n",
    "    print(f\"Add 'C' to {state['nlist']}\")\n",
    "    return(State(nlist=[\"C\"]))\n",
    "\n",
    "\n",
    "def node_bb(state:State) -> State:\n",
    "    \"\"\" node BB\"\"\"\n",
    "    print(f\"Add 'BB' to {state['nlist']}\")\n",
    "    return(State(nlist=[\"BB\"]))\n",
    "\n",
    "\n",
    "def node_cc(state:State) -> State:\n",
    "    \"\"\" node CC\"\"\"\n",
    "    print(f\"Add 'CC' to {state['nlist']}\")\n",
    "    return(State(nlist=[\"CC\"]))\n",
    "\n",
    "def node_d(state:State) -> State:\n",
    "    \"\"\" node d\"\"\"\n",
    "    print(f\"Add 'D' to {state['nlist']}\")\n",
    "    return(State(nlist=[\"D\"]))\n",
    "\n",
    "\n",
    "builder = StateGraph(State)\n",
    "builder.add_node(\"a\", node_a)\n",
    "builder.add_node(\"b\", node_b)\n",
    "builder.add_node(\"c\", node_c)\n",
    "builder.add_node(\"bb\", node_bb)\n",
    "builder.add_node(\"cc\", node_cc)\n",
    "builder.add_node(\"d\", node_d)\n",
    "\n",
    "\n",
    "builder.add_edge(START, \"a\")\n",
    "builder.add_edge(\"a\", \"b\")\n",
    "builder.add_edge(\"a\", \"c\")\n",
    "builder.add_edge(\"b\", \"bb\")\n",
    "builder.add_edge(\"c\", \"cc\")\n",
    "builder.add_edge(\"bb\", \"d\")\n",
    "builder.add_edge(\"cc\", \"d\")\n",
    "builder.add_edge(\"d\", END)\n",
    "graph = builder.compile()\n",
    "\n",
    "display(Image(graph.get_graph().draw_mermaid_png()))\n",
    "\n",
    "\n"
   ]
  },
  {
   "cell_type": "code",
   "execution_count": 6,
   "id": "cce7368e",
   "metadata": {},
   "outputs": [
    {
     "name": "stdout",
     "output_type": "stream",
     "text": [
      "Adding 'A' to ['Initial String']\n",
      "Addinb 'C' to ['Initial String', 'A']\n",
      "Addinb 'B' to ['Initial String', 'A']\n",
      "Addinb 'BB' to ['Initial String', 'A', 'B', 'C']\n",
      "Addinb 'CC' to ['Initial String', 'A', 'B', 'C']\n",
      "Addinb 'D' to ['Initial String', 'A', 'B', 'C', 'BB', 'CC']\n"
     ]
    },
    {
     "data": {
      "text/plain": [
       "{'nlist': ['Initial String', 'A', 'B', 'C', 'BB', 'CC', 'D']}"
      ]
     },
     "execution_count": 6,
     "metadata": {},
     "output_type": "execute_result"
    }
   ],
   "source": [
    "initial_state = State(\n",
    "    nlist = [\"Initial String\"]\n",
    ")\n",
    "graph.invoke(initial_state)"
   ]
  },
  {
   "cell_type": "markdown",
   "id": "9eb2e07c",
   "metadata": {},
   "source": [
    "### Conditional Edges \n",
    "Los Conditional Edges permiten dirigir el flujo del grafo basado en condiciones específicas evaluadas en tiempo de ejecución. Esto es útil para crear rutas dinámicas dentro del grafo según los datos procesados.\n",
    "\n"
   ]
  },
  {
   "cell_type": "code",
   "execution_count": null,
   "id": "243a07e8",
   "metadata": {},
   "outputs": [],
   "source": [
    "from IPython.display import Image, display\n",
    "import operator\n",
    "from typing import Annotated, List, Literal, TypedDict\n",
    "from langgraph.graph import END, START, StateGraph\n",
    "from langgraph.types import Command , interrupt\n",
    "\n",
    "\n",
    "class State(TypedDict):\n",
    "    nlist: Annotated[List[str], operator.add]  # ← Reducer necesario\n",
    "    \n",
    "def node_a(state: State)-> State:\n",
    "    \"\"\"\" node a \"\"\"\n",
    "    print(f\"Adding 'A' to {state['nlist']}\")\n",
    "    return(State(nlist=[\"A\"]))\n",
    "\n",
    "def node_b(state:State) -> State:\n",
    "    \"\"\" node b\"\"\"\n",
    "    print(f\"Add 'B' to {state['nlist']}\")\n",
    "    return(State(nlist=[\"B\"]))\n",
    "\n",
    "def node_c(state:State) -> State:\n",
    "    \"\"\" node c\"\"\"\n",
    "    print(f\"Add 'C' to {state['nlist']}\")\n",
    "    return(State(nlist=[\"C\"]))"
   ]
  }
 ],
 "metadata": {
  "kernelspec": {
   "display_name": "langgraph-workshop",
   "language": "python",
   "name": "python3"
  },
  "language_info": {
   "codemirror_mode": {
    "name": "ipython",
    "version": 3
   },
   "file_extension": ".py",
   "mimetype": "text/x-python",
   "name": "python",
   "nbconvert_exporter": "python",
   "pygments_lexer": "ipython3",
   "version": "3.13.5"
  }
 },
 "nbformat": 4,
 "nbformat_minor": 5
}
