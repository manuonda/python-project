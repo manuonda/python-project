{
 "cells": [
  {
   "cell_type": "markdown",
   "id": "eb07ec2e",
   "metadata": {},
   "source": [
    "# Lesson 2: LangGraph + LangChain + OpenAI\n",
    "\n",
    "Este notebook contiene ejemplos de uso de LangGraph, LangChain y OpenAI."
   ]
  },
  {
   "cell_type": "markdown",
   "id": "383ca153",
   "metadata": {},
   "source": [
    "## 1. Importar las librerías necesarias"
   ]
  },
  {
   "cell_type": "code",
   "execution_count": null,
   "id": "54004759",
   "metadata": {},
   "outputs": [],
   "source": [
    "# Importar las librerías principales\n",
    "from dotenv import load_dotenv\n",
    "import os\n",
    "import openai\n",
    "from langchain.llms import OpenAI\n",
    "from langchain.prompts import PromptTemplate\n",
    "from langchain.chains import LLMChain\n",
    "from langgraph import StateGraph\n",
    "\n",
    "print(\"Librerías importadas correctamente\")"
   ]
  },
  {
   "cell_type": "markdown",
   "id": "7f35fa17",
   "metadata": {},
   "source": [
    "## 2. Configurar variables de entorno"
   ]
  },
  {
   "cell_type": "code",
   "execution_count": null,
   "id": "3c39aade",
   "metadata": {},
   "outputs": [],
   "source": [
    "# Cargar variables de entorno desde .env\n",
    "load_dotenv()\n",
    "\n",
    "# Configurar la API key de OpenAI\n",
    "openai_api_key = os.getenv('OPENAI_API_KEY')\n",
    "if openai_api_key:\n",
    "    print(\"API Key cargada correctamente\")\n",
    "else:\n",
    "    print(\"⚠️ No se encontró OPENAI_API_KEY en las variables de entorno\")\n",
    "    print(\"Crea un archivo .env con: OPENAI_API_KEY=tu_api_key_aqui\")"
   ]
  },
  {
   "cell_type": "markdown",
   "id": "7d38ae57",
   "metadata": {},
   "source": [
    "## 3. Ejemplo básico con LangChain"
   ]
  },
  {
   "cell_type": "code",
   "execution_count": null,
   "id": "b9769c9f",
   "metadata": {},
   "outputs": [],
   "source": [
    "# Crear un LLM de LangChain\n",
    "if openai_api_key:\n",
    "    llm = OpenAI(api_key=openai_api_key, temperature=0.7)\n",
    "    \n",
    "    # Crear un prompt template\n",
    "    prompt = PromptTemplate(\n",
    "        input_variables=[\"topic\"],\n",
    "        template=\"Explica de manera simple qué es {topic}\"\n",
    "    )\n",
    "    \n",
    "    # Crear una cadena\n",
    "    chain = LLMChain(llm=llm, prompt=prompt)\n",
    "    \n",
    "    print(\"LangChain configurado correctamente\")\n",
    "else:\n",
    "    print(\"Configurar primero la API key para continuar\")"
   ]
  },
  {
   "cell_type": "markdown",
   "id": "b04734a1",
   "metadata": {},
   "source": [
    "## 4. Ejemplo con LangGraph"
   ]
  },
  {
   "cell_type": "code",
   "execution_count": null,
   "id": "09ea9ed3",
   "metadata": {},
   "outputs": [],
   "source": [
    "# Ejemplo básico de LangGraph\n",
    "from typing import TypedDict\n",
    "\n",
    "class State(TypedDict):\n",
    "    message: str\n",
    "    step: int\n",
    "\n",
    "def step_1(state: State) -> State:\n",
    "    return {\n",
    "        \"message\": state[\"message\"] + \" -> Paso 1 completado\",\n",
    "        \"step\": 1\n",
    "    }\n",
    "\n",
    "def step_2(state: State) -> State:\n",
    "    return {\n",
    "        \"message\": state[\"message\"] + \" -> Paso 2 completado\",\n",
    "        \"step\": 2\n",
    "    }\n",
    "\n",
    "# Crear el grafo\n",
    "graph = StateGraph(State)\n",
    "graph.add_node(\"step_1\", step_1)\n",
    "graph.add_node(\"step_2\", step_2)\n",
    "graph.add_edge(\"step_1\", \"step_2\")\n",
    "graph.set_entry_point(\"step_1\")\n",
    "graph.set_finish_point(\"step_2\")\n",
    "\n",
    "app = graph.compile()\n",
    "\n",
    "print(\"LangGraph configurado correctamente\")"
   ]
  },
  {
   "cell_type": "markdown",
   "id": "fe084d17",
   "metadata": {},
   "source": [
    "## 5. Ejecutar ejemplos"
   ]
  },
  {
   "cell_type": "code",
   "execution_count": null,
   "id": "ce924d00",
   "metadata": {},
   "outputs": [],
   "source": [
    "# Ejecutar el grafo\n",
    "initial_state = {\"message\": \"Iniciando proceso\", \"step\": 0}\n",
    "result = app.invoke(initial_state)\n",
    "print(\"Resultado del grafo:\")\n",
    "print(result)"
   ]
  },
  {
   "cell_type": "code",
   "execution_count": null,
   "id": "b4943f41",
   "metadata": {},
   "outputs": [],
   "source": [
    "# Ejecutar la cadena de LangChain (solo si tienes API key)\n",
    "if openai_api_key:\n",
    "    response = chain.run(topic=\"inteligencia artificial\")\n",
    "    print(\"Respuesta de LangChain:\")\n",
    "    print(response)\n",
    "else:\n",
    "    print(\"Configura tu API key para probar LangChain con OpenAI\")"
   ]
  }
 ],
 "metadata": {
  "language_info": {
   "name": "python"
  }
 },
 "nbformat": 4,
 "nbformat_minor": 5
}
