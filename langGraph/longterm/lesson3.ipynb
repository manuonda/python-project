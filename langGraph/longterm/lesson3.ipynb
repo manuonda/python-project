{
 "cells": [
  {
   "cell_type": "code",
   "execution_count": 22,
   "id": "1947e4b7",
   "metadata": {},
   "outputs": [],
   "source": [
    "import os\n",
    "from dotenv import load_dotenv\n",
    "_ = load_dotenv()\n",
    "\n",
    "profile = {\n",
    "    \"name\": \"John\",\n",
    "    \"full_name\": \"John Doe\",\n",
    "    \"user_profile_background\": \"Senior software engineer leading a team of 5 developers\",\n",
    "}\n",
    "prompt_instructions = {\n",
    "    \"triage_rules\": {\n",
    "        \"ignore\": \"Marketing newsletters, spam emails, mass company announcements\",\n",
    "        \"notify\": \"Team member out sick, build system notifications, project status updates\",\n",
    "        \"respond\": \"Direct questions from team members, meeting requests, critical bug reports\",\n",
    "    },\n",
    "    \"agent_instructions\": \"Use these tools when appropriate to help manage John's tasks efficiently.\"\n",
    "}\n",
    "email = {\n",
    "    \"from\": \"Alice Smith <alice.smith@company.com>\",\n",
    "    \"to\": \"John Doe <john.doe@company.com>\",\n",
    "    \"subject\": \"Quick question about API documentation\",\n",
    "    \"body\": \"\"\"\n",
    "Hi John,\n",
    "\n",
    "I was reviewing the API documentation for the new authentication service and noticed a few endpoints seem to be missing from the specs. Could you help clarify if this was intentional or if we should update the docs?\n",
    "\n",
    "Specifically, I'm looking at:\n",
    "- /auth/refresh\n",
    "- /auth/validate\n",
    "\n",
    "Thanks!\n",
    "Alice\"\"\",\n",
    "}"
   ]
  },
  {
   "cell_type": "code",
   "execution_count": 23,
   "id": "f3582811",
   "metadata": {},
   "outputs": [],
   "source": [
    "from pydantic import BaseModel, Field\n",
    "from typing_extensions import TypedDict, Literal, Annotated\n",
    "from langchain.chat_models import init_chat_model\n",
    "\n",
    "llm = init_chat_model(\"openai:gpt-4o-mini\")\n",
    "\n",
    "class Router(BaseModel):\n",
    "    \"\"\"Analyze the unread email and route it according to its content.\"\"\"\n",
    "\n",
    "    reasoning: str = Field(\n",
    "        description=\"Step-by-step reasoning behind the classification.\"\n",
    "    )\n",
    "    classification: Literal[\"ignore\", \"respond\", \"notify\"] = Field(\n",
    "        description=\"The classification of an email: 'ignore' for irrelevant emails, \"\n",
    "        \"'notify' for important information that doesn't need a response, \"\n",
    "        \"'respond' for emails that need a reply\",\n",
    "    )\n",
    "\n",
    "llm_router = llm.with_structured_output(Router)"
   ]
  },
  {
   "cell_type": "code",
   "execution_count": 24,
   "id": "40d9f257",
   "metadata": {},
   "outputs": [],
   "source": [
    "from prompts import triage_system_prompt, triage_user_prompt, agent_system_prompt\n",
    "\n",
    "from langchain_core.tools import tool\n",
    "@tool\n",
    "def write_email(to: str, subject: str, content: str) -> str:\n",
    "    \"\"\"Write and send an email.\"\"\"\n",
    "    # Placeholder response - in real app would send email\n",
    "    return f\"Email sent to {to} with subject '{subject}'\"\n",
    "\n",
    "@tool\n",
    "def schedule_meeting(\n",
    "    attendees: list[str], \n",
    "    subject: str, \n",
    "    duration_minutes: int, \n",
    "    preferred_day: str\n",
    ") -> str:\n",
    "    \"\"\"Schedule a calendar meeting.\"\"\"\n",
    "    # Placeholder response - in real app would check calendar and schedule\n",
    "    return f\"Meeting '{subject}' scheduled for {preferred_day} with {len(attendees)} attendees\"\n",
    "\n",
    "@tool\n",
    "def check_calendar_availability(day: str) -> str:\n",
    "    \"\"\"Check calendar availability for a given day.\"\"\"\n",
    "    # Placeholder response - in real app would check actual calendar\n",
    "    return f\"Available times on {day}: 9:00 AM, 2:00 PM, 4:00 PM\"\n",
    "\n"
   ]
  },
  {
   "cell_type": "markdown",
   "id": "f9740a90",
   "metadata": {},
   "source": [
    "### Define tools for managing memory and retrieving information"
   ]
  },
  {
   "cell_type": "code",
   "execution_count": 25,
   "id": "8e05cca5",
   "metadata": {},
   "outputs": [],
   "source": [
    "from langgraph.store.memory import InMemoryStore\n",
    "store = InMemoryStore(\n",
    "    index={\"embed\": \"openai:text-embedding-3-small\"}\n",
    ")"
   ]
  },
  {
   "cell_type": "code",
   "execution_count": 26,
   "id": "a1f34fc5",
   "metadata": {},
   "outputs": [
    {
     "name": "stdout",
     "output_type": "stream",
     "text": [
      "🧠 Herramientas de memoria creadas:\n",
      "📝 manage_memory: Create, update, or delete a memory to persist across conversations.\n",
      "Include the MEMORY ID when updating or deleting a MEMORY. Omit when creating a new MEMORY - it will be created for you.\n",
      "Proactively call this tool when you:\n",
      "\n",
      "1. Identify a new USER preference.\n",
      "2. Receive an explicit USER request to remember something or otherwise alter your behavior.\n",
      "3. Are working and want to record important context.\n",
      "4. Identify that an existing MEMORY is incorrect or outdated.\n",
      "🔍 search_memory: Search your long-term memories for information relevant to your current context.\n"
     ]
    }
   ],
   "source": [
    "# Importar herramientas de gestión de memoria de LangMem\n",
    "from langmem import create_manage_memory_tool, create_search_memory_tool\n",
    "\n",
    "# Crear herramienta para gestionar memoria\n",
    "manage_memory_tool = create_manage_memory_tool(\n",
    "    namespace=(\n",
    "        \"email_assistant\", \n",
    "        \"{langgraph_user_id}\",\n",
    "        \"collection\"\n",
    "    )\n",
    ")\n",
    "\n",
    "# Crear herramienta para buscar en memoria\n",
    "search_memory_tool = create_search_memory_tool(\n",
    "    namespace=(\n",
    "        \"email_assistant\",\n",
    "        \"{langgraph_user_id}\",\n",
    "        \"collection\"\n",
    "    )\n",
    ")\n",
    "\n",
    "print(\"🧠 Herramientas de memoria creadas:\")\n",
    "print(f\"📝 {manage_memory_tool.name}: {manage_memory_tool.description}\")\n",
    "print(f\"🔍 {search_memory_tool.name}: {search_memory_tool.description}\")"
   ]
  },
  {
   "cell_type": "code",
   "execution_count": 27,
   "id": "8934f7c9",
   "metadata": {},
   "outputs": [
    {
     "name": "stdout",
     "output_type": "stream",
     "text": [
      "==================================================\n",
      "🔧 MANAGE MEMORY TOOL\n",
      "==================================================\n",
      "Name: manage_memory\n",
      "Description: Create, update, or delete a memory to persist across conversations.\n",
      "Include the MEMORY ID when updating or deleting a MEMORY. Omit when creating a new MEMORY - it will be created for you.\n",
      "Proactively call this tool when you:\n",
      "\n",
      "1. Identify a new USER preference.\n",
      "2. Receive an explicit USER request to remember something or otherwise alter your behavior.\n",
      "3. Are working and want to record important context.\n",
      "4. Identify that an existing MEMORY is incorrect or outdated.\n",
      "Args: {'content': {'anyOf': [{'type': 'string'}, {'type': 'null'}], 'default': None, 'title': 'Content'}, 'action': {'default': 'create', 'enum': ['create', 'update', 'delete'], 'title': 'Action', 'type': 'string'}, 'id': {'anyOf': [{'format': 'uuid', 'type': 'string'}, {'type': 'null'}], 'default': None, 'title': 'Id'}}\n",
      "\n",
      "==================================================\n",
      "🔍 SEARCH MEMORY TOOL\n",
      "==================================================\n",
      "Name: search_memory\n",
      "Description: Search your long-term memories for information relevant to your current context.\n",
      "Args: {'query': {'title': 'Query', 'type': 'string'}, 'limit': {'default': 10, 'title': 'Limit', 'type': 'integer'}, 'offset': {'default': 0, 'title': 'Offset', 'type': 'integer'}, 'filter': {'anyOf': [{'additionalProperties': True, 'type': 'object'}, {'type': 'null'}], 'default': None, 'title': 'Filter'}}\n"
     ]
    }
   ],
   "source": [
    "# Explorar las herramientas de memoria\n",
    "print(\"=\" * 50)\n",
    "print(\"🔧 MANAGE MEMORY TOOL\")\n",
    "print(\"=\" * 50)\n",
    "print(f\"Name: {manage_memory_tool.name}\")\n",
    "print(f\"Description: {manage_memory_tool.description}\")\n",
    "print(f\"Args: {manage_memory_tool.args}\")\n",
    "\n",
    "print(\"\\n\" + \"=\" * 50)\n",
    "print(\"🔍 SEARCH MEMORY TOOL\")\n",
    "print(\"=\" * 50)\n",
    "print(f\"Name: {search_memory_tool.name}\")\n",
    "print(f\"Description: {search_memory_tool.description}\")\n",
    "print(f\"Args: {search_memory_tool.args}\")"
   ]
  },
  {
   "cell_type": "code",
   "execution_count": 28,
   "id": "fef073e6",
   "metadata": {},
   "outputs": [],
   "source": [
    "agent_system_prompt_memory = \"\"\"\n",
    "< Role >\n",
    "You are {full_name}'s executive assistant. You are a top-notch executive assistant who cares about {name} performing as well as possible.\n",
    "</ Role >\n",
    "\n",
    "< Tools >\n",
    "You have access to the following tools to help manage {name}'s communications and schedule:\n",
    "\n",
    "1. write_email(to, subject, content) - Send emails to specified recipients\n",
    "2. schedule_meeting(attendees, subject, duration_minutes, preferred_day) - Schedule calendar meetings\n",
    "3. check_calendar_availability(day) - Check available time slots for a given day\n",
    "4. manage_memory - Store any relevant information about contacts, actions, discussion, etc. in memory for future reference\n",
    "5. search_memory - Search for any relevant information that may have been stored in memory\n",
    "</ Tools >\n",
    "\n",
    "< Instructions >\n",
    "{instructions}\n",
    "</ Instructions >\n",
    "\"\"\""
   ]
  },
  {
   "cell_type": "code",
   "execution_count": 29,
   "id": "527e393b",
   "metadata": {},
   "outputs": [],
   "source": [
    "def create_prompt(state):\n",
    "    return [\n",
    "        {\n",
    "            \"role\": \"system\", \n",
    "            \"content\": agent_system_prompt_memory.format(\n",
    "                instructions=prompt_instructions[\"agent_instructions\"], \n",
    "                **profile\n",
    "            )\n",
    "        }\n",
    "    ] + state['messages']"
   ]
  },
  {
   "cell_type": "code",
   "execution_count": 30,
   "id": "e61eecd5",
   "metadata": {},
   "outputs": [],
   "source": [
    "from langgraph.prebuilt import create_react_agent\n",
    "tools= [\n",
    "    write_email, \n",
    "    schedule_meeting,\n",
    "    check_calendar_availability,\n",
    "    manage_memory_tool,\n",
    "    search_memory_tool\n",
    "]\n",
    "response_agent = create_react_agent(\n",
    "    model=\"openai:gpt-4o-mini\",\n",
    "    tools=tools,\n",
    "    prompt=create_prompt,\n",
    "    # Use this to ensure the store is passed to the agent \n",
    "    store=store\n",
    ")"
   ]
  },
  {
   "cell_type": "code",
   "execution_count": 42,
   "id": "fa5412db",
   "metadata": {},
   "outputs": [
    {
     "data": {
      "image/png": "[encoded data removed]",
      "text/plain": [
       "<IPython.core.display.Image object>"
      ]
     },
     "metadata": {},
     "output_type": "display_data"
    },
    {
     "name": "stdout",
     "output_type": "stream",
     "text": [
      "================================\u001b[1m Human Message \u001b[0m=================================\n",
      "\n",
      "who is jim?\n",
      "==================================\u001b[1m Ai Message \u001b[0m==================================\n",
      "Tool Calls:\n",
      "  search_memory (call_LmyiQzjykhgeG3ub7IDxQq3d)\n",
      " Call ID: call_LmyiQzjykhgeG3ub7IDxQq3d\n",
      "  Args:\n",
      "    query: jim\n",
      "=================================\u001b[1m Tool Message \u001b[0m=================================\n",
      "Name: search_memory\n",
      "\n",
      "[]\n",
      "==================================\u001b[1m Ai Message \u001b[0m==================================\n",
      "\n",
      "I don't have any information about Jim stored in my memory. If you provide me with more context or details, I can help you better.\n"
     ]
    }
   ],
   "source": [
    "config = {\"configurable\":{\"langgraph_user_id\":\"lance\"}}\n",
    "response = response_agent.invoke(\n",
    "    {\"messages\": [{\"role\":\"user\", \"content\":\"who is jim?\"}]},\n",
    "    config=config\n",
    ")\n",
    "\n",
    "display(Image(response_agent.get_graph(xray=True).draw_mermaid_png()))\n",
    "\n",
    "for m in response[\"messages\"]:\n",
    "    m.pretty_print()"
   ]
  },
  {
   "cell_type": "code",
   "execution_count": null,
   "id": "c4cad762",
   "metadata": {},
   "outputs": [
    {
     "data": {
      "text/plain": [
       "[]"
      ]
     },
     "execution_count": 21,
     "metadata": {},
     "output_type": "execute_result"
    }
   ],
   "source": [
    "store.list_namespaces()"
   ]
  },
  {
   "cell_type": "code",
   "execution_count": 32,
   "id": "eb874e5a",
   "metadata": {},
   "outputs": [
    {
     "data": {
      "text/plain": [
       "[]"
      ]
     },
     "execution_count": 32,
     "metadata": {},
     "output_type": "execute_result"
    }
   ],
   "source": [
    "store.search(('email_assistant', 'lance', 'collection'))"
   ]
  },
  {
   "cell_type": "code",
   "execution_count": 33,
   "id": "740cc3d1",
   "metadata": {},
   "outputs": [
    {
     "data": {
      "text/plain": [
       "[]"
      ]
     },
     "execution_count": 33,
     "metadata": {},
     "output_type": "execute_result"
    }
   ],
   "source": [
    "store.search(('email_assistant', 'lance', 'collection'), query=\"jim\")"
   ]
  },
  {
   "cell_type": "markdown",
   "id": "155026ca",
   "metadata": {},
   "source": [
    "### Create the rest of the agent"
   ]
  },
  {
   "cell_type": "code",
   "execution_count": 34,
   "id": "f53f2148",
   "metadata": {},
   "outputs": [],
   "source": [
    "from langgraph.graph import add_messages\n",
    "\n",
    "class State(TypedDict):\n",
    "    email_input: dict\n",
    "    messages: Annotated[list, add_messages]"
   ]
  },
  {
   "cell_type": "code",
   "execution_count": 35,
   "id": "5c8d62d0",
   "metadata": {},
   "outputs": [],
   "source": [
    "from langgraph.graph import StateGraph, START, END\n",
    "from langgraph.types import Command\n",
    "from typing import Literal\n",
    "from IPython.display import Image, display"
   ]
  },
  {
   "cell_type": "code",
   "execution_count": 36,
   "id": "534eecd6",
   "metadata": {},
   "outputs": [],
   "source": [
    "def triage_router(state: State) -> Command[\n",
    "    Literal[\"response_agent\", \"__end__\"]\n",
    "]:\n",
    "    author = state['email_input']['author']\n",
    "    to = state['email_input']['to']\n",
    "    subject = state['email_input']['subject']\n",
    "    email_thread = state['email_input']['email_thread']\n",
    "\n",
    "    system_prompt = triage_system_prompt.format(\n",
    "    profile=profile,  # ✅ Pasar el diccionario completo\n",
    "    triage_rules=prompt_instructions[\"triage_rules\"],\n",
    "    agent_instructions=prompt_instructions[\"agent_instructions\"]\n",
    "    )\n",
    "    user_prompt = triage_user_prompt.format(\n",
    "    email_from=author,      # ✅ Nombres correctos\n",
    "    email_to=to, \n",
    "    email_subject=subject, \n",
    "    email_body=email_thread\n",
    "    ) \n",
    "    result = llm_router.invoke(\n",
    "        [\n",
    "            {\"role\": \"system\", \"content\": system_prompt},\n",
    "            {\"role\": \"user\", \"content\": user_prompt},\n",
    "        ]\n",
    "    )\n",
    "    print(\"--------\")\n",
    "    print(f\"classification : {result.classification}\")\n",
    "    print(\"--------\")\n",
    "    if result.classification == \"respond\":\n",
    "        print(\"📧 Classification: RESPOND - This email requires a response\")\n",
    "        goto = \"response_agent\"\n",
    "        update = {\n",
    "            \"messages\": [\n",
    "                {\n",
    "                    \"role\": \"user\",\n",
    "                    \"content\": f\"Respond to the email {state['email_input']}\",\n",
    "                }\n",
    "            ]\n",
    "        }\n",
    "    elif result.classification == \"ignore\":\n",
    "        print(\"🚫 Classification: IGNORE - This email can be safely ignored\")\n",
    "        update = None\n",
    "        goto = END\n",
    "    elif result.classification == \"notify\":\n",
    "        # If real life, this would do something else\n",
    "        print(\"🔔 Classification: NOTIFY - This email contains important information\")\n",
    "        update = None\n",
    "        goto = END\n",
    "    else:\n",
    "        raise ValueError(f\"Invalid classification: {result.classification}\")\n",
    "    return Command(goto=goto, update=update)"
   ]
  },
  {
   "cell_type": "code",
   "execution_count": 41,
   "id": "b1d5f4cf",
   "metadata": {},
   "outputs": [
    {
     "data": {
      "image/png": "[encoded data removed]",
      "text/plain": [
       "<IPython.core.display.Image object>"
      ]
     },
     "metadata": {},
     "output_type": "display_data"
    }
   ],
   "source": [
    "email_agent = StateGraph(State)\n",
    "email_agent = email_agent.add_node(triage_router)\n",
    "email_agent = email_agent.add_node(\"response_agent\", response_agent)\n",
    "email_agent = email_agent.add_edge(START, \"triage_router\")\n",
    "email_agent = email_agent.compile(store=store)\n",
    "\n",
    "display(Image(email_agent.get_graph(xray=True).draw_mermaid_png()))"
   ]
  },
  {
   "cell_type": "code",
   "execution_count": 38,
   "id": "45733d5b",
   "metadata": {},
   "outputs": [],
   "source": [
    "email_input = {\n",
    "    \"author\": \"Alice Smith <alice.smith@company.com>\",\n",
    "    \"to\": \"John Doe <john.doe@company.com>\",\n",
    "    \"subject\": \"Quick question about API documentation\",\n",
    "    \"email_thread\": \"\"\"Hi John,\n",
    "\n",
    "I was reviewing the API documentation for the new authentication service and noticed a few endpoints seem to be missing from the specs. Could you help clarify if this was intentional or if we should update the docs?\n",
    "\n",
    "Specifically, I'm looking at:\n",
    "- /auth/refresh\n",
    "- /auth/validate\n",
    "\n",
    "Thanks!\n",
    "Alice\"\"\",\n",
    "}"
   ]
  },
  {
   "cell_type": "code",
   "execution_count": 39,
   "id": "8532cd60",
   "metadata": {},
   "outputs": [
    {
     "name": "stdout",
     "output_type": "stream",
     "text": [
      "--------\n",
      "classification : respond\n",
      "--------\n",
      "📧 Classification: RESPOND - This email requires a response\n"
     ]
    }
   ],
   "source": [
    "response = email_agent.invoke(\n",
    "    {\"email_input\": email_input},\n",
    "    config=config\n",
    ")"
   ]
  },
  {
   "cell_type": "code",
   "execution_count": 40,
   "id": "80791f58",
   "metadata": {},
   "outputs": [
    {
     "name": "stdout",
     "output_type": "stream",
     "text": [
      "================================\u001b[1m Human Message \u001b[0m=================================\n",
      "\n",
      "Respond to the email {'author': 'Alice Smith <alice.smith@company.com>', 'to': 'John Doe <john.doe@company.com>', 'subject': 'Quick question about API documentation', 'email_thread': \"Hi John,\\n\\nI was reviewing the API documentation for the new authentication service and noticed a few endpoints seem to be missing from the specs. Could you help clarify if this was intentional or if we should update the docs?\\n\\nSpecifically, I'm looking at:\\n- /auth/refresh\\n- /auth/validate\\n\\nThanks!\\nAlice\"}\n",
      "==================================\u001b[1m Ai Message \u001b[0m==================================\n",
      "Tool Calls:\n",
      "  write_email (call_O2P4KCxxY8kVnmKb7gPQJnsD)\n",
      " Call ID: call_O2P4KCxxY8kVnmKb7gPQJnsD\n",
      "  Args:\n",
      "    to: Alice Smith <alice.smith@company.com>\n",
      "    subject: Re: Quick question about API documentation\n",
      "    content: Hi Alice,\n",
      "\n",
      "Thanks for reaching out. I appreciate you taking the time to review the API documentation. \n",
      "\n",
      "I'll take a look at the endpoints you mentioned, specifically /auth/refresh and /auth/validate, and see if there are any updates needed. I'll get back to you shortly with my findings.\n",
      "\n",
      "Best,\n",
      "John\n",
      "=================================\u001b[1m Tool Message \u001b[0m=================================\n",
      "Name: write_email\n",
      "\n",
      "Email sent to Alice Smith <alice.smith@company.com> with subject 'Re: Quick question about API documentation'\n",
      "==================================\u001b[1m Ai Message \u001b[0m==================================\n",
      "\n",
      "I have responded to Alice Smith's email regarding the API documentation, acknowledging her concerns and stating that John will look into the endpoints mentioned. If there's anything else you need, just let me know!\n"
     ]
    }
   ],
   "source": [
    "for m in response[\"messages\"]:\n",
    "    m.pretty_print()"
   ]
  },
  {
   "cell_type": "code",
   "execution_count": 43,
   "id": "2c02bd3d",
   "metadata": {},
   "outputs": [
    {
     "name": "stdout",
     "output_type": "stream",
     "text": [
      "--------\n",
      "classification : respond\n",
      "--------\n",
      "📧 Classification: RESPOND - This email requires a response\n",
      "================================\u001b[1m Human Message \u001b[0m=================================\n",
      "\n",
      "Respond to the email {'author': 'Alice Smith <alice.smith@company.com>', 'to': 'John Doe <john.doe@company.com>', 'subject': 'Follow up', 'email_thread': 'Hi John,\\n\\nAny update on my previous ask?'}\n",
      "==================================\u001b[1m Ai Message \u001b[0m==================================\n",
      "Tool Calls:\n",
      "  write_email (call_y5tjF4GQhPVNeVwAnfSnLuAm)\n",
      " Call ID: call_y5tjF4GQhPVNeVwAnfSnLuAm\n",
      "  Args:\n",
      "    to: alice.smith@company.com\n",
      "    subject: Re: Follow up\n",
      "    content: Hi Alice,\n",
      "\n",
      "Thank you for your email. I apologize for the delay. I am currently reviewing your previous request and will have an update for you shortly.\n",
      "\n",
      "Best regards,\n",
      "John Doe\n",
      "=================================\u001b[1m Tool Message \u001b[0m=================================\n",
      "Name: write_email\n",
      "\n",
      "Email sent to alice.smith@company.com with subject 'Re: Follow up'\n",
      "==================================\u001b[1m Ai Message \u001b[0m==================================\n",
      "\n",
      "I have responded to Alice's email, informing her that you are reviewing her previous request and will provide an update shortly. If there's anything else you need, feel free to let me know!\n",
      "================================\u001b[1m Human Message \u001b[0m=================================\n",
      "\n",
      "Respond to the email {'author': 'Alice Smith <alice.smith@company.com>', 'to': 'John Doe <john.doe@company.com>', 'subject': 'Follow up', 'email_thread': 'Hi John,\\n\\nAny update on my previous ask?'}\n",
      "==================================\u001b[1m Ai Message \u001b[0m==================================\n",
      "Tool Calls:\n",
      "  write_email (call_y5tjF4GQhPVNeVwAnfSnLuAm)\n",
      " Call ID: call_y5tjF4GQhPVNeVwAnfSnLuAm\n",
      "  Args:\n",
      "    to: alice.smith@company.com\n",
      "    subject: Re: Follow up\n",
      "    content: Hi Alice,\n",
      "\n",
      "Thank you for your email. I apologize for the delay. I am currently reviewing your previous request and will have an update for you shortly.\n",
      "\n",
      "Best regards,\n",
      "John Doe\n",
      "=================================\u001b[1m Tool Message \u001b[0m=================================\n",
      "Name: write_email\n",
      "\n",
      "Email sent to alice.smith@company.com with subject 'Re: Follow up'\n",
      "==================================\u001b[1m Ai Message \u001b[0m==================================\n",
      "\n",
      "I have responded to Alice's email, informing her that you are reviewing her previous request and will provide an update shortly. If there's anything else you need, feel free to let me know!\n"
     ]
    }
   ],
   "source": [
    "email_input = {\n",
    "    \"author\": \"Alice Smith <alice.smith@company.com>\",\n",
    "    \"to\": \"John Doe <john.doe@company.com>\",\n",
    "    \"subject\": \"Follow up\",\n",
    "    \"email_thread\": \"\"\"Hi John,\n",
    "\n",
    "Any update on my previous ask?\"\"\",\n",
    "}\n",
    "\n",
    "response = email_agent.invoke({\"email_input\": email_input}, config=config)\n",
    "\n",
    "for m in response[\"messages\"]:\n",
    "    m.pretty_print()"
   ]
  }
 ],
 "metadata": {
  "kernelspec": {
   "display_name": "longterm",
   "language": "python",
   "name": "python3"
  },
  "language_info": {
   "codemirror_mode": {
    "name": "ipython",
    "version": 3
   },
   "file_extension": ".py",
   "mimetype": "text/x-python",
   "name": "python",
   "nbconvert_exporter": "python",
   "pygments_lexer": "ipython3",
   "version": "3.13.1"
  }
 },
 "nbformat": 4,
 "nbformat_minor": 5
}
